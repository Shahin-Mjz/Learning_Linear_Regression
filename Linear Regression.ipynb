{
 "cells": [
  {
   "cell_type": "markdown",
   "id": "6702d277",
   "metadata": {},
   "source": [
    "### $$\\bf{\\text{Homework 2}}$$\n",
    "$\\newline$\n",
    "$$\\bf{\\text{Part 1: Linear Regression}}$$\n",
    "$\\newline$\n",
    "$\\newline$\n",
    "$\\newline$\n",
    "$\\newline$\n",
    "$\\newline$"
   ]
  },
  {
   "cell_type": "code",
   "execution_count": 1,
   "id": "3b0abc3f",
   "metadata": {},
   "outputs": [],
   "source": [
    "import os\n",
    "import numpy as np\n",
    "import pandas as pd\n",
    "import matplotlib.pyplot as plt"
   ]
  },
  {
   "cell_type": "code",
   "execution_count": 2,
   "id": "890168c5",
   "metadata": {},
   "outputs": [
    {
     "name": "stdout",
     "output_type": "stream",
     "text": [
      "\n",
      "\n",
      "     Data\n"
     ]
    },
    {
     "data": {
      "text/html": [
       "<div>\n",
       "<style scoped>\n",
       "    .dataframe tbody tr th:only-of-type {\n",
       "        vertical-align: middle;\n",
       "    }\n",
       "\n",
       "    .dataframe tbody tr th {\n",
       "        vertical-align: top;\n",
       "    }\n",
       "\n",
       "    .dataframe thead th {\n",
       "        text-align: right;\n",
       "    }\n",
       "</style>\n",
       "<table border=\"1\" class=\"dataframe\">\n",
       "  <thead>\n",
       "    <tr style=\"text-align: right;\">\n",
       "      <th></th>\n",
       "      <th>x</th>\n",
       "      <th>y</th>\n",
       "    </tr>\n",
       "  </thead>\n",
       "  <tbody>\n",
       "    <tr>\n",
       "      <th>0</th>\n",
       "      <td>6.1101</td>\n",
       "      <td>17.5920</td>\n",
       "    </tr>\n",
       "    <tr>\n",
       "      <th>1</th>\n",
       "      <td>5.5277</td>\n",
       "      <td>9.1302</td>\n",
       "    </tr>\n",
       "    <tr>\n",
       "      <th>2</th>\n",
       "      <td>8.5186</td>\n",
       "      <td>13.6620</td>\n",
       "    </tr>\n",
       "    <tr>\n",
       "      <th>3</th>\n",
       "      <td>7.0032</td>\n",
       "      <td>11.8540</td>\n",
       "    </tr>\n",
       "    <tr>\n",
       "      <th>4</th>\n",
       "      <td>5.8598</td>\n",
       "      <td>6.8233</td>\n",
       "    </tr>\n",
       "  </tbody>\n",
       "</table>\n",
       "</div>"
      ],
      "text/plain": [
       "        x        y\n",
       "0  6.1101  17.5920\n",
       "1  5.5277   9.1302\n",
       "2  8.5186  13.6620\n",
       "3  7.0032  11.8540\n",
       "4  5.8598   6.8233"
      ]
     },
     "execution_count": 2,
     "metadata": {},
     "output_type": "execute_result"
    }
   ],
   "source": [
    "path = os.getcwd() + '/'\n",
    "file_name_str = 'dataset1.csv'\n",
    "data_df = pd.read_csv(path + file_name_str)\n",
    "print('\\n\\n     Data')\n",
    "data_df.head()"
   ]
  },
  {
   "cell_type": "code",
   "execution_count": 3,
   "id": "ee906e4a",
   "metadata": {},
   "outputs": [
    {
     "name": "stdout",
     "output_type": "stream",
     "text": [
      "Shape of the x: (97,)\n",
      "Shape of the y: (97,)\n"
     ]
    }
   ],
   "source": [
    "x_series = data_df['x']\n",
    "y_series = data_df['y']\n",
    "print(f'Shape of the x: {x_series.shape}')\n",
    "print(f'Shape of the y: {y_series.shape}')"
   ]
  },
  {
   "cell_type": "markdown",
   "id": "964908be",
   "metadata": {},
   "source": [
    "- [ ] $\\bf{\\text{A. }}$ $\\bf{\\text{Linear Regression with one variable:}}$\n",
    "$\\newline$\n",
    "$\\text{Consider the attached file dataset1.txt. The first column of the data file shows the input\n",
    "data (x), and the second column}$\n",
    "$\\newline$\n",
    "$\\text{shows each samples’ output value (y).}$"
   ]
  },
  {
   "cell_type": "markdown",
   "id": "50afb8ca",
   "metadata": {},
   "source": [
    "- - $\\text{1. What is the cost function J(θ) equation for linear regression?}$\n",
    "- - - $\\text{Answer:}$\n",
    "$\\newline$\n",
    "$\\newline$\n",
    "$${\\bf{LSE}} \\; \\text{Approach} \\; \\; \\begin{cases}\n",
    "J(\\theta) = \\; (\\frac{1}{2}) \\; \\displaystyle{\\sum_{i = 1}^{m} ({\\bf{X}}^{(i)}{\\bf{\\theta}} - {\\bf{y}}^{(i)})^{2}} \n",
    "\\\\\n",
    "\\\\\n",
    "\\\\\n",
    "\\\\\n",
    "J(\\theta) = \\; (\\frac{1}{2}) \\; \\; ({\\bf{X}} {\\bf{\\theta}} - {\\bf{y}})^{T} ({\\bf{X}} {\\bf{\\theta}} - {\\bf{y}})\n",
    "\\\\\n",
    "\\\\\n",
    "\\\\\n",
    "\\\\\n",
    "J(\\theta) = \\; (\\frac{1}{2}) \\; \\;  \\lVert {\\bf{X\\theta}} - {\\bf{y}} \\rVert_{2}^{2}\n",
    "\\end{cases}$$"
   ]
  },
  {
   "cell_type": "markdown",
   "id": "f81898cd",
   "metadata": {},
   "source": [
    "- - $\\text{2. Fit a linear regression model on your data using:}$"
   ]
  },
  {
   "cell_type": "markdown",
   "id": "d780e2e3",
   "metadata": {},
   "source": [
    "- - - $\\text{a. Closed-form solution calculated by} \\; {\\bf{MSE}} \\; \\text{Method}$\n",
    "$\\newline$\n",
    "$\\newline$\n",
    "- - - - $\\text{Answer:}$\n",
    "$\\newline$\n",
    "$\\newline$\n",
    "$${\\bf{\\theta^{*}}} = ({\\bf{X}}^{T}{\\bf{X}})^{-1} {\\bf{X}}^{T}{\\bf{y}}$$\n",
    "$\\newline$\n",
    "$\\newline$\n",
    "$\\text{By implementing in Python: }$\n",
    "$\\newline$\n",
    "$\\newline$\n",
    "$${\\bf{{\\theta}^{*}}}{\\,}{=}{\\;\\;} {\\begin{pmatrix}-3.89578088 \\\\  1.19303364\\end{pmatrix}}$$\n",
    "$\\newline$\n",
    "$\\newline$"
   ]
  },
  {
   "cell_type": "code",
   "execution_count": 4,
   "id": "5deaf7ad",
   "metadata": {},
   "outputs": [
    {
     "name": "stdout",
     "output_type": "stream",
     "text": [
      "Shape of X: (97, 2)\n",
      "\n",
      "θ = \n",
      "[[-3.89578088]\n",
      " [ 1.19303364]]\n",
      "\n"
     ]
    }
   ],
   "source": [
    "x_ndarray = np.array(x_series)\n",
    "y_ndarray = np.array(y_series)\n",
    "x_vect_ndarray = np.reshape(x_ndarray, newshape=(x_ndarray.shape[0], -1))\n",
    "y_vect_ndarray = np.reshape(y_ndarray, newshape=(y_ndarray.shape[0], -1))\n",
    "\n",
    "x_mat_ndarray = np.concatenate((np.ones(shape=(x_vect_ndarray.shape[0], 1)), x_vect_ndarray), axis=1)\n",
    "m = len(x_mat_ndarray)\n",
    "print(f'Shape of X: {x_mat_ndarray.shape}\\n')\n",
    "\n",
    "theta_opt = np.linalg.inv(x_mat_ndarray.T @ x_mat_ndarray) @ x_mat_ndarray.T @ y_vect_ndarray\n",
    "print(f'\\u03B8 = \\n{theta_opt}\\n')"
   ]
  },
  {
   "cell_type": "code",
   "execution_count": 5,
   "id": "c8e3e039",
   "metadata": {},
   "outputs": [
    {
     "data": {
      "text/plain": [
       "array([[1.    , 6.1101],\n",
       "       [1.    , 5.5277],\n",
       "       [1.    , 8.5186],\n",
       "       [1.    , 7.0032],\n",
       "       [1.    , 5.8598]])"
      ]
     },
     "execution_count": 5,
     "metadata": {},
     "output_type": "execute_result"
    }
   ],
   "source": [
    "x_mat_ndarray[: 5]"
   ]
  },
  {
   "cell_type": "markdown",
   "id": "cfa54b6f",
   "metadata": {},
   "source": [
    "- - - $\\text{b. Gradient Descent method in online (stochastic) mode (1500 iterations)}$\n",
    "$\\newline$\n",
    "$\\text{Answer:}$\n",
    "$\\newline$\n"
   ]
  },
  {
   "cell_type": "code",
   "execution_count": 6,
   "id": "3baf8d49",
   "metadata": {},
   "outputs": [],
   "source": [
    "def SGD(x: np.ndarray, y: np.ndarray, iteration: int=1500, learning_rate: float=0.01) -> (np.ndarray, np.ndarray):\n",
    "    \n",
    "    m, n = x.shape\n",
    "    y = np.reshape(y, newshape=(m, 1))\n",
    "    theta_init = np.zeros(shape=(n, 1))\n",
    "    theta = theta_init\n",
    "    J_theta = np.zeros(shape=(iteration*m, 1))\n",
    "    count = 0\n",
    "    for it in range(iteration):\n",
    "        \n",
    "        d_theta = np.zeros(shape=(n, 1))\n",
    "        for i in range(m):\n",
    "            \n",
    "            for j in range(n):\n",
    "                d_theta[j][0] = (1/m)*(x[i] @ theta - y[i]) * x[i][j]\n",
    "            \n",
    "#             d_theta /= (1/m)\n",
    "            theta_new = theta - (learning_rate*d_theta)\n",
    "            theta = theta_new\n",
    "            J_theta[count][0] = (1/(2*m)) * ((x @ theta - y).T @ (x @ theta - y))\n",
    "            count += 1\n",
    "        \n",
    "    return (theta, J_theta)"
   ]
  },
  {
   "cell_type": "code",
   "execution_count": 7,
   "id": "d14f34a4",
   "metadata": {},
   "outputs": [],
   "source": [
    "theta_opt1, J_theta1 = SGD(x_mat_ndarray, y_vect_ndarray)"
   ]
  },
  {
   "cell_type": "code",
   "execution_count": 8,
   "id": "456fa9be",
   "metadata": {},
   "outputs": [
    {
     "name": "stdout",
     "output_type": "stream",
     "text": [
      "Result of the Learning by using SGD algorithm: \n",
      "\n",
      " θ = \n",
      "[[-3.58838901]\n",
      " [ 1.12366721]]\n"
     ]
    }
   ],
   "source": [
    "print(f'Result of the Learning by using SGD algorithm: \\n\\n \\u03B8 = \\n{theta_opt1}')"
   ]
  },
  {
   "cell_type": "markdown",
   "id": "5e06c8e2",
   "metadata": {},
   "source": [
    "- - - $\\text{c. Gradient descent method in batch mode (1500 iterations)}$\n",
    "$\\newline$\n",
    "$\\text{Answer:}$\n",
    "$\\newline$\n",
    "$\\text{We have}$\n",
    "$\\newline$\n",
    "$$\\frac{\\partial{J(\\theta)}}{\\partial{\\theta_{j}}} = (\\frac{1}{m}) \\sum_{i=1}^{m}({\\bf{X^{(i)}}}{{\\bf{\\theta - y^{(i)}}}}){\\;}{\\bf{X}}^{(i)}_{j}$$"
   ]
  },
  {
   "cell_type": "code",
   "execution_count": 9,
   "id": "621f9cfc",
   "metadata": {},
   "outputs": [],
   "source": [
    "def BGD(x: np.ndarray, y: np.ndarray, iteration: int=1500, learning_rate: float=0.01) -> (np.ndarray, np.ndarray):\n",
    "    \n",
    "    m, n = x.shape\n",
    "    y = np.reshape(y, newshape=(m, 1))\n",
    "    theta_init = np.zeros(shape=(n, 1))\n",
    "    theta = theta_init\n",
    "    J_theta = np.zeros(shape=(iteration, 1))\n",
    "    for it in range(iteration):\n",
    "        \n",
    "        \n",
    "        d_theta = np.zeros(shape=(n, 1))\n",
    "        for j in range(n):\n",
    "            \n",
    "            for i in range(m):\n",
    "                d_theta[j][0] += ((x[i] @ theta) - y[i][0]) * x[i][j]\n",
    "            d_theta[j][0] /= m\n",
    "            \n",
    "        theta_new = theta - (learning_rate*d_theta)\n",
    "        theta = theta_new\n",
    "        J_theta[it][0] = (1/(2*m)) * ((x @ theta - y).T @ (x @ theta - y)) \n",
    "            \n",
    "    return (theta, J_theta)"
   ]
  },
  {
   "cell_type": "code",
   "execution_count": 10,
   "id": "6a408a98",
   "metadata": {},
   "outputs": [],
   "source": [
    "theta_opt2, J_theta2 = BGD(x_mat_ndarray, y_vect_ndarray)"
   ]
  },
  {
   "cell_type": "code",
   "execution_count": 11,
   "id": "ed45cbc1",
   "metadata": {},
   "outputs": [
    {
     "name": "stdout",
     "output_type": "stream",
     "text": [
      "Result of the Learning by using BGD algorithm: \n",
      "\n",
      " θ = \n",
      "[[-3.63029144]\n",
      " [ 1.16636235]]\n",
      "\n"
     ]
    }
   ],
   "source": [
    "print(f'Result of the Learning by using BGD algorithm: \\n\\n \\u03B8 = \\n{theta_opt2}\\n')"
   ]
  },
  {
   "cell_type": "code",
   "execution_count": 12,
   "id": "d26f8165",
   "metadata": {},
   "outputs": [
    {
     "name": "stdout",
     "output_type": "stream",
     "text": [
      "Result of the Cost Function for Closed-form method: \n",
      "\n",
      "J(θ) = [[4.47697138]]\n",
      "\n"
     ]
    }
   ],
   "source": [
    "x = x_mat_ndarray\n",
    "y = y_vect_ndarray\n",
    "m = x.shape[0]\n",
    "theta = theta_opt\n",
    "J_train_closed_form = (1/(2*m))*((x @ theta - y).T @ (x @ theta - y))\n",
    "print(f'Result of the Cost Function for Closed-form method: \\n\\nJ(\\u03B8) = {J_train_closed_form}\\n')"
   ]
  },
  {
   "cell_type": "markdown",
   "id": "9166ff70",
   "metadata": {},
   "source": [
    "- - $\\text{3. Plot the dataset and superimpose the fitted models using the three above methods.}$"
   ]
  },
  {
   "cell_type": "code",
   "execution_count": 13,
   "id": "cff640d3",
   "metadata": {},
   "outputs": [
    {
     "data": {
      "image/png": "[encoded data removed]",
      "text/plain": [
       "<Figure size 640x480 with 1 Axes>"
      ]
     },
     "metadata": {},
     "output_type": "display_data"
    }
   ],
   "source": [
    "x = x_vect_ndarray\n",
    "y = y_vect_ndarray\n",
    "SGD_model = theta_opt1[0][0] + theta_opt1[1][0] * x\n",
    "BGD_model = theta_opt2[0][0] + theta_opt2[1][0] * x\n",
    "plt.figure()\n",
    "plt.scatter(x, y, linewidths=0.2, c='blue', edgecolors='red', label='Data')\n",
    "plt.plot(x, SGD_model, label='SGD', c='red')\n",
    "plt.plot(x, BGD_model, label='BGD', c='Gray')\n",
    "plt.xticks([]), plt.yticks([]), plt.legend(fontsize=8)\n",
    "plt.show()"
   ]
  },
  {
   "cell_type": "markdown",
   "id": "7a5687c8",
   "metadata": {},
   "source": [
    "- - $\\text{4. Use each estimated parameter θ (for each method) to predict the output for x = 6.2, 12.8,\n",
    "22.1, 30.}$"
   ]
  },
  {
   "cell_type": "code",
   "execution_count": 14,
   "id": "130a6c76",
   "metadata": {},
   "outputs": [],
   "source": [
    "x_for_pred = np.array([[6.2], [12.8], [22.1], [30]])\n",
    "y_pred_closed_form = theta_opt[0][0] + theta_opt[1][0] * x_for_pred\n",
    "y_pred_SGD = theta_opt1[0][0] + theta_opt1[1][0] * x_for_pred\n",
    "y_pred_BGD = theta_opt2[0][0] + theta_opt2[1][0] * x_for_pred"
   ]
  },
  {
   "cell_type": "code",
   "execution_count": 15,
   "id": "b778f6cd",
   "metadata": {},
   "outputs": [
    {
     "name": "stdout",
     "output_type": "stream",
     "text": [
      "\n",
      "\n",
      " Results of the Predictions\n"
     ]
    },
    {
     "data": {
      "text/html": [
       "<div>\n",
       "<style scoped>\n",
       "    .dataframe tbody tr th:only-of-type {\n",
       "        vertical-align: middle;\n",
       "    }\n",
       "\n",
       "    .dataframe tbody tr th {\n",
       "        vertical-align: top;\n",
       "    }\n",
       "\n",
       "    .dataframe thead th {\n",
       "        text-align: right;\n",
       "    }\n",
       "</style>\n",
       "<table border=\"1\" class=\"dataframe\">\n",
       "  <thead>\n",
       "    <tr style=\"text-align: right;\">\n",
       "      <th></th>\n",
       "      <th>Closed-form</th>\n",
       "      <th>SGD</th>\n",
       "      <th>BGD</th>\n",
       "    </tr>\n",
       "  </thead>\n",
       "  <tbody>\n",
       "    <tr>\n",
       "      <th>0</th>\n",
       "      <td>3.501028</td>\n",
       "      <td>3.378348</td>\n",
       "      <td>3.601155</td>\n",
       "    </tr>\n",
       "    <tr>\n",
       "      <th>1</th>\n",
       "      <td>11.375050</td>\n",
       "      <td>10.794551</td>\n",
       "      <td>11.299147</td>\n",
       "    </tr>\n",
       "    <tr>\n",
       "      <th>2</th>\n",
       "      <td>22.470263</td>\n",
       "      <td>21.244656</td>\n",
       "      <td>22.146317</td>\n",
       "    </tr>\n",
       "    <tr>\n",
       "      <th>3</th>\n",
       "      <td>31.895228</td>\n",
       "      <td>30.121627</td>\n",
       "      <td>31.360579</td>\n",
       "    </tr>\n",
       "  </tbody>\n",
       "</table>\n",
       "</div>"
      ],
      "text/plain": [
       "   Closed-form        SGD        BGD\n",
       "0     3.501028   3.378348   3.601155\n",
       "1    11.375050  10.794551  11.299147\n",
       "2    22.470263  21.244656  22.146317\n",
       "3    31.895228  30.121627  31.360579"
      ]
     },
     "execution_count": 15,
     "metadata": {},
     "output_type": "execute_result"
    }
   ],
   "source": [
    "predictions_df = pd.DataFrame({'Closed-form': y_pred_closed_form.ravel(), \\\n",
    "                               'SGD': y_pred_SGD.ravel(), 'BGD': y_pred_BGD.ravel()})\n",
    "\n",
    "print('\\n\\n Results of the Predictions')\n",
    "predictions_df"
   ]
  },
  {
   "cell_type": "markdown",
   "id": "cd6beacb",
   "metadata": {},
   "source": [
    "- - $\\text{5. Compare the parameter θ estimated by each method by plotting them in one figure.}$"
   ]
  },
  {
   "cell_type": "code",
   "execution_count": 16,
   "id": "fe55842b",
   "metadata": {},
   "outputs": [
    {
     "data": {
      "image/png": "[encoded data removed]",
      "text/plain": [
       "<Figure size 640x480 with 1 Axes>"
      ]
     },
     "metadata": {},
     "output_type": "display_data"
    }
   ],
   "source": [
    "edge_color = 'yellow'\n",
    "plt.figure()\n",
    "\n",
    "plt.scatter([0], [0], c='black', label='Origin (Initial value)')\n",
    "plt.scatter(theta_opt[0], theta_opt[1], label='Closed-form', c='blue', marker='*')\n",
    "plt.scatter(theta_opt1[0], theta_opt1[1], edgecolor=edge_color, label='SGD')\n",
    "plt.scatter(theta_opt2[0], theta_opt2[1], edgecolor=edge_color, label='BGD')\n",
    "plt.xlabel('\\u03B8\\u2080'), plt.ylabel('\\u03B8\\u2081')\n",
    "plt.legend()\n",
    "plt.show()"
   ]
  },
  {
   "cell_type": "markdown",
   "id": "d8b7636c",
   "metadata": {},
   "source": [
    "- - $\\text{6. Plot the cost function (θ) along the epochs (plot both online & batch methods on one\n",
    "figure using hold on command).}$"
   ]
  },
  {
   "cell_type": "code",
   "execution_count": 17,
   "id": "ab3b4f6f",
   "metadata": {},
   "outputs": [
    {
     "data": {
      "image/png": "[encoded data removed]",
      "text/plain": [
       "<Figure size 500x500 with 1 Axes>"
      ]
     },
     "metadata": {},
     "output_type": "display_data"
    },
    {
     "name": "stdout",
     "output_type": "stream",
     "text": [
      "\n",
      "Final value of the Cost Function for SGD method:\n",
      "\n",
      "J(θ) = [4.54607324]\n",
      "\n"
     ]
    }
   ],
   "source": [
    "iterations1 = np.arange(1, len(J_theta1) + 1)\n",
    "plt.figure(figsize=(5, 5))\n",
    "plt.plot(iterations1[: 1500], J_theta1[: 1500], c='blue'), plt.title('SGD', fontsize=10), \\\n",
    "plt.xlabel('Iterations'), plt.ylabel('J(\\u03B8)')\n",
    "plt.show()\n",
    "print(f'\\nFinal value of the Cost Function for SGD method:\\n\\nJ(\\u03B8) = {J_theta1[-1]}\\n')"
   ]
  },
  {
   "cell_type": "code",
   "execution_count": 18,
   "id": "7b6c6841",
   "metadata": {},
   "outputs": [
    {
     "data": {
      "image/png": "[encoded data removed]",
      "text/plain": [
       "<Figure size 500x500 with 1 Axes>"
      ]
     },
     "metadata": {},
     "output_type": "display_data"
    },
    {
     "name": "stdout",
     "output_type": "stream",
     "text": [
      "\n",
      "Final value of the Cost Function for BGD method:\n",
      "\n",
      "J(θ) = [4.48338826]\n",
      "\n"
     ]
    }
   ],
   "source": [
    "iterations2 = np.arange(1, len(J_theta2) + 1)\n",
    "plt.figure(figsize=(5, 5), )\n",
    "plt.plot(iterations2, J_theta2, c='blue'), plt.title('BGD', fontsize=10), plt.xlabel('Iterations'), \\\n",
    "plt.ylabel('J(\\u03B8)')\n",
    "plt.show()\n",
    "print(f'\\nFinal value of the Cost Function for BGD method:\\n\\nJ(\\u03B8) = {J_theta2[-1]}\\n')"
   ]
  },
  {
   "cell_type": "code",
   "execution_count": 19,
   "id": "4a191e76",
   "metadata": {},
   "outputs": [
    {
     "data": {
      "image/png": "[encoded data removed]",
      "text/plain": [
       "<Figure size 500x500 with 1 Axes>"
      ]
     },
     "metadata": {},
     "output_type": "display_data"
    }
   ],
   "source": [
    "iterations1 = np.arange(1, len(J_theta1) + 1)\n",
    "iterations2 = np.arange(1, len(J_theta2) + 1)\n",
    "\n",
    "plt.figure(figsize=(5, 5))\n",
    "plt.plot(iterations1[0: len(J_theta2)], J_theta1[0: len(J_theta2)], label='SGD', c='blue'), \\\n",
    "plt.xlabel('Iterations'), plt.ylabel('J(\\u03B8)')\n",
    "plt.plot(iterations2, J_theta2, label='BGD', c='g'), plt.xlabel('Iterations'), \\\n",
    "plt.ylabel('J(\\u03B8)'), plt.xticks([]), plt.yticks([]), plt.legend(fontsize=8)\n",
    "plt.show()"
   ]
  },
  {
   "cell_type": "markdown",
   "id": "5e300229",
   "metadata": {},
   "source": [
    "- - $\\text{7. Which type of G.D. (online\\batch) do you prefer here? Why?}$\n",
    "$\\newline$\n",
    "$\\newline$\n",
    "- - - $\\text{Answer:}$\n",
    "$\\newline$\n",
    "$\\newline$\n",
    "$\\text{BGD, because its convergence speed is higher (per iteration) and because we have all the data at the beginning, there is no need}$\n",
    "$\\newline$\n",
    "$\\text{to use the online method.}$"
   ]
  },
  {
   "cell_type": "markdown",
   "id": "fdbe1c78",
   "metadata": {},
   "source": [
    "- [x] $\\bf{\\text{A}}$"
   ]
  },
  {
   "cell_type": "markdown",
   "id": "9dc97098",
   "metadata": {},
   "source": [
    "- [ ] $\\bf{\\text{B. Multiple variable Regression:}}$"
   ]
  },
  {
   "cell_type": "code",
   "execution_count": 20,
   "id": "f61065f0",
   "metadata": {},
   "outputs": [],
   "source": [
    "file_name_train = 'train.csv'\n",
    "file_name_test = 'test.csv'\n",
    "\n",
    "data_train = pd.read_csv(path + file_name_train)\n",
    "data_test = pd.read_csv(path + file_name_test)\n",
    "\n",
    "features_name_list = ['age', 'gender', 'bmi', 'children', 'smoker', 'region']\n",
    "target_name_list = ['charges']\n",
    "X_train_df = data_train[features_name_list]\n",
    "y_train_df = data_train[target_name_list]\n",
    "X_test_df = data_test[features_name_list]\n",
    "y_test_df = data_test[target_name_list]"
   ]
  },
  {
   "cell_type": "code",
   "execution_count": 21,
   "id": "5ab0e01f",
   "metadata": {},
   "outputs": [
    {
     "name": "stdout",
     "output_type": "stream",
     "text": [
      "\n",
      "                 Training Data:\n"
     ]
    },
    {
     "data": {
      "text/html": [
       "<div>\n",
       "<style scoped>\n",
       "    .dataframe tbody tr th:only-of-type {\n",
       "        vertical-align: middle;\n",
       "    }\n",
       "\n",
       "    .dataframe tbody tr th {\n",
       "        vertical-align: top;\n",
       "    }\n",
       "\n",
       "    .dataframe thead th {\n",
       "        text-align: right;\n",
       "    }\n",
       "</style>\n",
       "<table border=\"1\" class=\"dataframe\">\n",
       "  <thead>\n",
       "    <tr style=\"text-align: right;\">\n",
       "      <th></th>\n",
       "      <th>age</th>\n",
       "      <th>gender</th>\n",
       "      <th>bmi</th>\n",
       "      <th>children</th>\n",
       "      <th>smoker</th>\n",
       "      <th>region</th>\n",
       "      <th>charges</th>\n",
       "    </tr>\n",
       "  </thead>\n",
       "  <tbody>\n",
       "    <tr>\n",
       "      <th>0</th>\n",
       "      <td>19</td>\n",
       "      <td>female</td>\n",
       "      <td>27.900</td>\n",
       "      <td>0</td>\n",
       "      <td>yes</td>\n",
       "      <td>southwest</td>\n",
       "      <td>16884.92400</td>\n",
       "    </tr>\n",
       "    <tr>\n",
       "      <th>1</th>\n",
       "      <td>18</td>\n",
       "      <td>male</td>\n",
       "      <td>33.770</td>\n",
       "      <td>1</td>\n",
       "      <td>no</td>\n",
       "      <td>southeast</td>\n",
       "      <td>1725.55230</td>\n",
       "    </tr>\n",
       "    <tr>\n",
       "      <th>2</th>\n",
       "      <td>28</td>\n",
       "      <td>male</td>\n",
       "      <td>33.000</td>\n",
       "      <td>3</td>\n",
       "      <td>no</td>\n",
       "      <td>southeast</td>\n",
       "      <td>4449.46200</td>\n",
       "    </tr>\n",
       "    <tr>\n",
       "      <th>3</th>\n",
       "      <td>33</td>\n",
       "      <td>male</td>\n",
       "      <td>22.705</td>\n",
       "      <td>0</td>\n",
       "      <td>no</td>\n",
       "      <td>northwest</td>\n",
       "      <td>21984.47061</td>\n",
       "    </tr>\n",
       "    <tr>\n",
       "      <th>4</th>\n",
       "      <td>32</td>\n",
       "      <td>male</td>\n",
       "      <td>28.880</td>\n",
       "      <td>0</td>\n",
       "      <td>no</td>\n",
       "      <td>northwest</td>\n",
       "      <td>3866.85520</td>\n",
       "    </tr>\n",
       "  </tbody>\n",
       "</table>\n",
       "</div>"
      ],
      "text/plain": [
       "   age  gender     bmi  children smoker     region      charges\n",
       "0   19  female  27.900         0    yes  southwest  16884.92400\n",
       "1   18    male  33.770         1     no  southeast   1725.55230\n",
       "2   28    male  33.000         3     no  southeast   4449.46200\n",
       "3   33    male  22.705         0     no  northwest  21984.47061\n",
       "4   32    male  28.880         0     no  northwest   3866.85520"
      ]
     },
     "execution_count": 21,
     "metadata": {},
     "output_type": "execute_result"
    }
   ],
   "source": [
    "print('\\n                 Training Data:')\n",
    "data_train.head()"
   ]
  },
  {
   "cell_type": "code",
   "execution_count": 22,
   "id": "4597d239",
   "metadata": {},
   "outputs": [
    {
     "name": "stdout",
     "output_type": "stream",
     "text": [
      "Shape of the Train Data: (1000, 7)\n"
     ]
    }
   ],
   "source": [
    "print(f'Shape of the Train Data: {data_train.shape}')"
   ]
  },
  {
   "cell_type": "code",
   "execution_count": 23,
   "id": "38c28084",
   "metadata": {},
   "outputs": [
    {
     "name": "stdout",
     "output_type": "stream",
     "text": [
      "\n",
      "                  Test Data:\n"
     ]
    },
    {
     "data": {
      "text/html": [
       "<div>\n",
       "<style scoped>\n",
       "    .dataframe tbody tr th:only-of-type {\n",
       "        vertical-align: middle;\n",
       "    }\n",
       "\n",
       "    .dataframe tbody tr th {\n",
       "        vertical-align: top;\n",
       "    }\n",
       "\n",
       "    .dataframe thead th {\n",
       "        text-align: right;\n",
       "    }\n",
       "</style>\n",
       "<table border=\"1\" class=\"dataframe\">\n",
       "  <thead>\n",
       "    <tr style=\"text-align: right;\">\n",
       "      <th></th>\n",
       "      <th>age</th>\n",
       "      <th>gender</th>\n",
       "      <th>bmi</th>\n",
       "      <th>children</th>\n",
       "      <th>smoker</th>\n",
       "      <th>region</th>\n",
       "      <th>charges</th>\n",
       "    </tr>\n",
       "  </thead>\n",
       "  <tbody>\n",
       "    <tr>\n",
       "      <th>0</th>\n",
       "      <td>30</td>\n",
       "      <td>male</td>\n",
       "      <td>22.99</td>\n",
       "      <td>2</td>\n",
       "      <td>yes</td>\n",
       "      <td>northwest</td>\n",
       "      <td>17361.76610</td>\n",
       "    </tr>\n",
       "    <tr>\n",
       "      <th>1</th>\n",
       "      <td>24</td>\n",
       "      <td>male</td>\n",
       "      <td>32.70</td>\n",
       "      <td>0</td>\n",
       "      <td>yes</td>\n",
       "      <td>southwest</td>\n",
       "      <td>34472.84100</td>\n",
       "    </tr>\n",
       "    <tr>\n",
       "      <th>2</th>\n",
       "      <td>24</td>\n",
       "      <td>male</td>\n",
       "      <td>25.80</td>\n",
       "      <td>0</td>\n",
       "      <td>no</td>\n",
       "      <td>southwest</td>\n",
       "      <td>1972.95000</td>\n",
       "    </tr>\n",
       "    <tr>\n",
       "      <th>3</th>\n",
       "      <td>48</td>\n",
       "      <td>male</td>\n",
       "      <td>29.60</td>\n",
       "      <td>0</td>\n",
       "      <td>no</td>\n",
       "      <td>southwest</td>\n",
       "      <td>21232.18226</td>\n",
       "    </tr>\n",
       "    <tr>\n",
       "      <th>4</th>\n",
       "      <td>47</td>\n",
       "      <td>male</td>\n",
       "      <td>19.19</td>\n",
       "      <td>1</td>\n",
       "      <td>no</td>\n",
       "      <td>northeast</td>\n",
       "      <td>8627.54110</td>\n",
       "    </tr>\n",
       "  </tbody>\n",
       "</table>\n",
       "</div>"
      ],
      "text/plain": [
       "   age gender    bmi  children smoker     region      charges\n",
       "0   30   male  22.99         2    yes  northwest  17361.76610\n",
       "1   24   male  32.70         0    yes  southwest  34472.84100\n",
       "2   24   male  25.80         0     no  southwest   1972.95000\n",
       "3   48   male  29.60         0     no  southwest  21232.18226\n",
       "4   47   male  19.19         1     no  northeast   8627.54110"
      ]
     },
     "execution_count": 23,
     "metadata": {},
     "output_type": "execute_result"
    }
   ],
   "source": [
    "print('\\n                  Test Data:')\n",
    "data_test.head()"
   ]
  },
  {
   "cell_type": "code",
   "execution_count": 24,
   "id": "1aa6a068",
   "metadata": {},
   "outputs": [
    {
     "name": "stdout",
     "output_type": "stream",
     "text": [
      "Shape of the Test Data: (150, 7)\n"
     ]
    }
   ],
   "source": [
    "print(f'Shape of the Test Data: {data_test.shape}')"
   ]
  },
  {
   "cell_type": "markdown",
   "id": "b124a7ae",
   "metadata": {},
   "source": [
    "- - $\\text{Preprocessing for Train Data and Test Data:}$"
   ]
  },
  {
   "cell_type": "code",
   "execution_count": 25,
   "id": "645ad0f4",
   "metadata": {},
   "outputs": [],
   "source": [
    "def int_encoder(data_df: pd.DataFrame, series_name: str) -> np.ndarray:\n",
    "    new_df = data_df.copy()\n",
    "    x = np.array(new_df[series_name])\n",
    "    values = np.unique(x)\n",
    "    out = np.zeros(x.shape, dtype=int)\n",
    "    values_dict = {}\n",
    "    for i, value in enumerate(values):\n",
    "        values_dict[value] = int(i + 1)\n",
    "        out[x == value] = i + 1\n",
    "    new_df[series_name] = out\n",
    "    print(f'{series_name}: {values_dict}')\n",
    "    return new_df"
   ]
  },
  {
   "cell_type": "code",
   "execution_count": 26,
   "id": "cf5efc30",
   "metadata": {},
   "outputs": [],
   "source": [
    "def one_hot_encoder(data_df: pd.DataFrame, series_name: str) -> pd.DataFrame:\n",
    "    df1 = data_df.copy()\n",
    "    series_shape = df1[series_name].shape\n",
    "    features_list = list(df1.columns)\n",
    "    features_list.remove(series_name)\n",
    "    df2 = data_df.copy()\n",
    "    df2 = df2[features_list]\n",
    "    values_list = list(np.unique(df1[series_name]))\n",
    "    values_dict = {}\n",
    "    for value in values_list:\n",
    "        new_name = series_name + '_' + value\n",
    "        values_dict[new_name] = np.zeros(series_shape, dtype=int)\n",
    "        \n",
    "    for value in values_list:\n",
    "        new_name = series_name + '_' + value\n",
    "        for i in range(len(df1[series_name])):\n",
    "            if df1[series_name][i] == value: values_dict[new_name][i] = 1\n",
    "        \n",
    "        df2[new_name] = values_dict[new_name]\n",
    "    \n",
    "    return df2"
   ]
  },
  {
   "cell_type": "markdown",
   "id": "0fa28341",
   "metadata": {},
   "source": [
    "> ${\\bf{\\text{Note:}}} \\text{ To encode sex and smoking variables, apply\n",
    "integer encoding, and for region variable, apply one-hot encoding (OHE).} $"
   ]
  },
  {
   "cell_type": "code",
   "execution_count": 27,
   "id": "c82313a3",
   "metadata": {},
   "outputs": [
    {
     "name": "stdout",
     "output_type": "stream",
     "text": [
      "gender: {'female': 1, 'male': 2}\n",
      "smoker: {'no': 1, 'yes': 2}\n",
      "\n",
      "\n",
      "                                 Encoded Training Data\n"
     ]
    },
    {
     "data": {
      "text/html": [
       "<div>\n",
       "<style scoped>\n",
       "    .dataframe tbody tr th:only-of-type {\n",
       "        vertical-align: middle;\n",
       "    }\n",
       "\n",
       "    .dataframe tbody tr th {\n",
       "        vertical-align: top;\n",
       "    }\n",
       "\n",
       "    .dataframe thead th {\n",
       "        text-align: right;\n",
       "    }\n",
       "</style>\n",
       "<table border=\"1\" class=\"dataframe\">\n",
       "  <thead>\n",
       "    <tr style=\"text-align: right;\">\n",
       "      <th></th>\n",
       "      <th>age</th>\n",
       "      <th>gender</th>\n",
       "      <th>bmi</th>\n",
       "      <th>children</th>\n",
       "      <th>smoker</th>\n",
       "      <th>region_northeast</th>\n",
       "      <th>region_northwest</th>\n",
       "      <th>region_southeast</th>\n",
       "      <th>region_southwest</th>\n",
       "    </tr>\n",
       "  </thead>\n",
       "  <tbody>\n",
       "    <tr>\n",
       "      <th>0</th>\n",
       "      <td>19</td>\n",
       "      <td>1</td>\n",
       "      <td>27.900</td>\n",
       "      <td>0</td>\n",
       "      <td>2</td>\n",
       "      <td>0</td>\n",
       "      <td>0</td>\n",
       "      <td>0</td>\n",
       "      <td>1</td>\n",
       "    </tr>\n",
       "    <tr>\n",
       "      <th>1</th>\n",
       "      <td>18</td>\n",
       "      <td>2</td>\n",
       "      <td>33.770</td>\n",
       "      <td>1</td>\n",
       "      <td>1</td>\n",
       "      <td>0</td>\n",
       "      <td>0</td>\n",
       "      <td>1</td>\n",
       "      <td>0</td>\n",
       "    </tr>\n",
       "    <tr>\n",
       "      <th>2</th>\n",
       "      <td>28</td>\n",
       "      <td>2</td>\n",
       "      <td>33.000</td>\n",
       "      <td>3</td>\n",
       "      <td>1</td>\n",
       "      <td>0</td>\n",
       "      <td>0</td>\n",
       "      <td>1</td>\n",
       "      <td>0</td>\n",
       "    </tr>\n",
       "    <tr>\n",
       "      <th>3</th>\n",
       "      <td>33</td>\n",
       "      <td>2</td>\n",
       "      <td>22.705</td>\n",
       "      <td>0</td>\n",
       "      <td>1</td>\n",
       "      <td>0</td>\n",
       "      <td>1</td>\n",
       "      <td>0</td>\n",
       "      <td>0</td>\n",
       "    </tr>\n",
       "    <tr>\n",
       "      <th>4</th>\n",
       "      <td>32</td>\n",
       "      <td>2</td>\n",
       "      <td>28.880</td>\n",
       "      <td>0</td>\n",
       "      <td>1</td>\n",
       "      <td>0</td>\n",
       "      <td>1</td>\n",
       "      <td>0</td>\n",
       "      <td>0</td>\n",
       "    </tr>\n",
       "    <tr>\n",
       "      <th>...</th>\n",
       "      <td>...</td>\n",
       "      <td>...</td>\n",
       "      <td>...</td>\n",
       "      <td>...</td>\n",
       "      <td>...</td>\n",
       "      <td>...</td>\n",
       "      <td>...</td>\n",
       "      <td>...</td>\n",
       "      <td>...</td>\n",
       "    </tr>\n",
       "    <tr>\n",
       "      <th>995</th>\n",
       "      <td>39</td>\n",
       "      <td>1</td>\n",
       "      <td>23.275</td>\n",
       "      <td>3</td>\n",
       "      <td>1</td>\n",
       "      <td>1</td>\n",
       "      <td>0</td>\n",
       "      <td>0</td>\n",
       "      <td>0</td>\n",
       "    </tr>\n",
       "    <tr>\n",
       "      <th>996</th>\n",
       "      <td>39</td>\n",
       "      <td>1</td>\n",
       "      <td>34.100</td>\n",
       "      <td>3</td>\n",
       "      <td>1</td>\n",
       "      <td>0</td>\n",
       "      <td>0</td>\n",
       "      <td>0</td>\n",
       "      <td>1</td>\n",
       "    </tr>\n",
       "    <tr>\n",
       "      <th>997</th>\n",
       "      <td>63</td>\n",
       "      <td>1</td>\n",
       "      <td>36.850</td>\n",
       "      <td>0</td>\n",
       "      <td>1</td>\n",
       "      <td>0</td>\n",
       "      <td>0</td>\n",
       "      <td>1</td>\n",
       "      <td>0</td>\n",
       "    </tr>\n",
       "    <tr>\n",
       "      <th>998</th>\n",
       "      <td>33</td>\n",
       "      <td>1</td>\n",
       "      <td>36.290</td>\n",
       "      <td>3</td>\n",
       "      <td>1</td>\n",
       "      <td>1</td>\n",
       "      <td>0</td>\n",
       "      <td>0</td>\n",
       "      <td>0</td>\n",
       "    </tr>\n",
       "    <tr>\n",
       "      <th>999</th>\n",
       "      <td>36</td>\n",
       "      <td>1</td>\n",
       "      <td>26.885</td>\n",
       "      <td>0</td>\n",
       "      <td>1</td>\n",
       "      <td>0</td>\n",
       "      <td>1</td>\n",
       "      <td>0</td>\n",
       "      <td>0</td>\n",
       "    </tr>\n",
       "  </tbody>\n",
       "</table>\n",
       "<p>1000 rows × 9 columns</p>\n",
       "</div>"
      ],
      "text/plain": [
       "     age  gender     bmi  children  smoker  region_northeast  \\\n",
       "0     19       1  27.900         0       2                 0   \n",
       "1     18       2  33.770         1       1                 0   \n",
       "2     28       2  33.000         3       1                 0   \n",
       "3     33       2  22.705         0       1                 0   \n",
       "4     32       2  28.880         0       1                 0   \n",
       "..   ...     ...     ...       ...     ...               ...   \n",
       "995   39       1  23.275         3       1                 1   \n",
       "996   39       1  34.100         3       1                 0   \n",
       "997   63       1  36.850         0       1                 0   \n",
       "998   33       1  36.290         3       1                 1   \n",
       "999   36       1  26.885         0       1                 0   \n",
       "\n",
       "     region_northwest  region_southeast  region_southwest  \n",
       "0                   0                 0                 1  \n",
       "1                   0                 1                 0  \n",
       "2                   0                 1                 0  \n",
       "3                   1                 0                 0  \n",
       "4                   1                 0                 0  \n",
       "..                ...               ...               ...  \n",
       "995                 0                 0                 0  \n",
       "996                 0                 0                 1  \n",
       "997                 0                 1                 0  \n",
       "998                 0                 0                 0  \n",
       "999                 1                 0                 0  \n",
       "\n",
       "[1000 rows x 9 columns]"
      ]
     },
     "execution_count": 27,
     "metadata": {},
     "output_type": "execute_result"
    }
   ],
   "source": [
    "X_train_pre_df = int_encoder(X_train_df, 'gender')\n",
    "X_train_pre_df = int_encoder(X_train_pre_df, 'smoker')\n",
    "X_train_pre_df = one_hot_encoder(X_train_pre_df, 'region')\n",
    "print('\\n\\n                                 Encoded Training Data')\n",
    "X_train_pre_df"
   ]
  },
  {
   "cell_type": "code",
   "execution_count": 28,
   "id": "db7af66a",
   "metadata": {},
   "outputs": [
    {
     "name": "stdout",
     "output_type": "stream",
     "text": [
      "gender: {'female': 1, 'male': 2}\n",
      "smoker: {'no': 1, 'yes': 2}\n",
      "\n",
      "\n",
      "                                 Endcoded Test Data\n"
     ]
    },
    {
     "data": {
      "text/html": [
       "<div>\n",
       "<style scoped>\n",
       "    .dataframe tbody tr th:only-of-type {\n",
       "        vertical-align: middle;\n",
       "    }\n",
       "\n",
       "    .dataframe tbody tr th {\n",
       "        vertical-align: top;\n",
       "    }\n",
       "\n",
       "    .dataframe thead th {\n",
       "        text-align: right;\n",
       "    }\n",
       "</style>\n",
       "<table border=\"1\" class=\"dataframe\">\n",
       "  <thead>\n",
       "    <tr style=\"text-align: right;\">\n",
       "      <th></th>\n",
       "      <th>age</th>\n",
       "      <th>gender</th>\n",
       "      <th>bmi</th>\n",
       "      <th>children</th>\n",
       "      <th>smoker</th>\n",
       "      <th>region_northeast</th>\n",
       "      <th>region_northwest</th>\n",
       "      <th>region_southeast</th>\n",
       "      <th>region_southwest</th>\n",
       "    </tr>\n",
       "  </thead>\n",
       "  <tbody>\n",
       "    <tr>\n",
       "      <th>0</th>\n",
       "      <td>30</td>\n",
       "      <td>2</td>\n",
       "      <td>22.990</td>\n",
       "      <td>2</td>\n",
       "      <td>2</td>\n",
       "      <td>0</td>\n",
       "      <td>1</td>\n",
       "      <td>0</td>\n",
       "      <td>0</td>\n",
       "    </tr>\n",
       "    <tr>\n",
       "      <th>1</th>\n",
       "      <td>24</td>\n",
       "      <td>2</td>\n",
       "      <td>32.700</td>\n",
       "      <td>0</td>\n",
       "      <td>2</td>\n",
       "      <td>0</td>\n",
       "      <td>0</td>\n",
       "      <td>0</td>\n",
       "      <td>1</td>\n",
       "    </tr>\n",
       "    <tr>\n",
       "      <th>2</th>\n",
       "      <td>24</td>\n",
       "      <td>2</td>\n",
       "      <td>25.800</td>\n",
       "      <td>0</td>\n",
       "      <td>1</td>\n",
       "      <td>0</td>\n",
       "      <td>0</td>\n",
       "      <td>0</td>\n",
       "      <td>1</td>\n",
       "    </tr>\n",
       "    <tr>\n",
       "      <th>3</th>\n",
       "      <td>48</td>\n",
       "      <td>2</td>\n",
       "      <td>29.600</td>\n",
       "      <td>0</td>\n",
       "      <td>1</td>\n",
       "      <td>0</td>\n",
       "      <td>0</td>\n",
       "      <td>0</td>\n",
       "      <td>1</td>\n",
       "    </tr>\n",
       "    <tr>\n",
       "      <th>4</th>\n",
       "      <td>47</td>\n",
       "      <td>2</td>\n",
       "      <td>19.190</td>\n",
       "      <td>1</td>\n",
       "      <td>1</td>\n",
       "      <td>1</td>\n",
       "      <td>0</td>\n",
       "      <td>0</td>\n",
       "      <td>0</td>\n",
       "    </tr>\n",
       "    <tr>\n",
       "      <th>...</th>\n",
       "      <td>...</td>\n",
       "      <td>...</td>\n",
       "      <td>...</td>\n",
       "      <td>...</td>\n",
       "      <td>...</td>\n",
       "      <td>...</td>\n",
       "      <td>...</td>\n",
       "      <td>...</td>\n",
       "      <td>...</td>\n",
       "    </tr>\n",
       "    <tr>\n",
       "      <th>145</th>\n",
       "      <td>52</td>\n",
       "      <td>2</td>\n",
       "      <td>32.775</td>\n",
       "      <td>3</td>\n",
       "      <td>1</td>\n",
       "      <td>0</td>\n",
       "      <td>1</td>\n",
       "      <td>0</td>\n",
       "      <td>0</td>\n",
       "    </tr>\n",
       "    <tr>\n",
       "      <th>146</th>\n",
       "      <td>60</td>\n",
       "      <td>2</td>\n",
       "      <td>32.800</td>\n",
       "      <td>0</td>\n",
       "      <td>2</td>\n",
       "      <td>0</td>\n",
       "      <td>0</td>\n",
       "      <td>0</td>\n",
       "      <td>1</td>\n",
       "    </tr>\n",
       "    <tr>\n",
       "      <th>147</th>\n",
       "      <td>20</td>\n",
       "      <td>1</td>\n",
       "      <td>31.920</td>\n",
       "      <td>0</td>\n",
       "      <td>1</td>\n",
       "      <td>0</td>\n",
       "      <td>1</td>\n",
       "      <td>0</td>\n",
       "      <td>0</td>\n",
       "    </tr>\n",
       "    <tr>\n",
       "      <th>148</th>\n",
       "      <td>55</td>\n",
       "      <td>2</td>\n",
       "      <td>21.500</td>\n",
       "      <td>1</td>\n",
       "      <td>1</td>\n",
       "      <td>0</td>\n",
       "      <td>0</td>\n",
       "      <td>0</td>\n",
       "      <td>1</td>\n",
       "    </tr>\n",
       "    <tr>\n",
       "      <th>149</th>\n",
       "      <td>42</td>\n",
       "      <td>2</td>\n",
       "      <td>34.100</td>\n",
       "      <td>0</td>\n",
       "      <td>1</td>\n",
       "      <td>0</td>\n",
       "      <td>0</td>\n",
       "      <td>0</td>\n",
       "      <td>1</td>\n",
       "    </tr>\n",
       "  </tbody>\n",
       "</table>\n",
       "<p>150 rows × 9 columns</p>\n",
       "</div>"
      ],
      "text/plain": [
       "     age  gender     bmi  children  smoker  region_northeast  \\\n",
       "0     30       2  22.990         2       2                 0   \n",
       "1     24       2  32.700         0       2                 0   \n",
       "2     24       2  25.800         0       1                 0   \n",
       "3     48       2  29.600         0       1                 0   \n",
       "4     47       2  19.190         1       1                 1   \n",
       "..   ...     ...     ...       ...     ...               ...   \n",
       "145   52       2  32.775         3       1                 0   \n",
       "146   60       2  32.800         0       2                 0   \n",
       "147   20       1  31.920         0       1                 0   \n",
       "148   55       2  21.500         1       1                 0   \n",
       "149   42       2  34.100         0       1                 0   \n",
       "\n",
       "     region_northwest  region_southeast  region_southwest  \n",
       "0                   1                 0                 0  \n",
       "1                   0                 0                 1  \n",
       "2                   0                 0                 1  \n",
       "3                   0                 0                 1  \n",
       "4                   0                 0                 0  \n",
       "..                ...               ...               ...  \n",
       "145                 1                 0                 0  \n",
       "146                 0                 0                 1  \n",
       "147                 1                 0                 0  \n",
       "148                 0                 0                 1  \n",
       "149                 0                 0                 1  \n",
       "\n",
       "[150 rows x 9 columns]"
      ]
     },
     "execution_count": 28,
     "metadata": {},
     "output_type": "execute_result"
    }
   ],
   "source": [
    "X_test_pre_df = int_encoder(X_test_df, 'gender')\n",
    "X_test_pre_df = int_encoder(X_test_pre_df, 'smoker')\n",
    "X_test_pre_df = one_hot_encoder(X_test_pre_df, 'region')\n",
    "print('\\n\\n                                 Endcoded Test Data')\n",
    "X_test_pre_df"
   ]
  },
  {
   "cell_type": "code",
   "execution_count": 29,
   "id": "86d9ec52",
   "metadata": {},
   "outputs": [],
   "source": [
    "# Min_Max_Scaler:\n",
    "def min_max_scaler(x: pd.DataFrame) -> pd.DataFrame:\n",
    "    scalered_df = x.copy()\n",
    "    features_list = list(x.columns)\n",
    "    for feature in features_list:\n",
    "        scalered_df[feature] = (scalered_df[feature] - scalered_df[feature].min())/(scalered_df[feature].max() - \\\n",
    "                                                                                        scalered_df[feature].min())\n",
    "\n",
    "    return scalered_df"
   ]
  },
  {
   "cell_type": "code",
   "execution_count": 30,
   "id": "11e2cb13",
   "metadata": {},
   "outputs": [
    {
     "name": "stdout",
     "output_type": "stream",
     "text": [
      "\n",
      "\n",
      "                                 Normalized Training Data\n"
     ]
    },
    {
     "data": {
      "text/html": [
       "<div>\n",
       "<style scoped>\n",
       "    .dataframe tbody tr th:only-of-type {\n",
       "        vertical-align: middle;\n",
       "    }\n",
       "\n",
       "    .dataframe tbody tr th {\n",
       "        vertical-align: top;\n",
       "    }\n",
       "\n",
       "    .dataframe thead th {\n",
       "        text-align: right;\n",
       "    }\n",
       "</style>\n",
       "<table border=\"1\" class=\"dataframe\">\n",
       "  <thead>\n",
       "    <tr style=\"text-align: right;\">\n",
       "      <th></th>\n",
       "      <th>age</th>\n",
       "      <th>gender</th>\n",
       "      <th>bmi</th>\n",
       "      <th>children</th>\n",
       "      <th>smoker</th>\n",
       "      <th>region_northeast</th>\n",
       "      <th>region_northwest</th>\n",
       "      <th>region_southeast</th>\n",
       "      <th>region_southwest</th>\n",
       "    </tr>\n",
       "  </thead>\n",
       "  <tbody>\n",
       "    <tr>\n",
       "      <th>0</th>\n",
       "      <td>0.021739</td>\n",
       "      <td>0.0</td>\n",
       "      <td>0.346891</td>\n",
       "      <td>0.0</td>\n",
       "      <td>1.0</td>\n",
       "      <td>0.0</td>\n",
       "      <td>0.0</td>\n",
       "      <td>0.0</td>\n",
       "      <td>1.0</td>\n",
       "    </tr>\n",
       "    <tr>\n",
       "      <th>1</th>\n",
       "      <td>0.000000</td>\n",
       "      <td>1.0</td>\n",
       "      <td>0.517432</td>\n",
       "      <td>0.2</td>\n",
       "      <td>0.0</td>\n",
       "      <td>0.0</td>\n",
       "      <td>0.0</td>\n",
       "      <td>1.0</td>\n",
       "      <td>0.0</td>\n",
       "    </tr>\n",
       "    <tr>\n",
       "      <th>2</th>\n",
       "      <td>0.217391</td>\n",
       "      <td>1.0</td>\n",
       "      <td>0.495061</td>\n",
       "      <td>0.6</td>\n",
       "      <td>0.0</td>\n",
       "      <td>0.0</td>\n",
       "      <td>0.0</td>\n",
       "      <td>1.0</td>\n",
       "      <td>0.0</td>\n",
       "    </tr>\n",
       "    <tr>\n",
       "      <th>3</th>\n",
       "      <td>0.326087</td>\n",
       "      <td>1.0</td>\n",
       "      <td>0.195962</td>\n",
       "      <td>0.0</td>\n",
       "      <td>0.0</td>\n",
       "      <td>0.0</td>\n",
       "      <td>1.0</td>\n",
       "      <td>0.0</td>\n",
       "      <td>0.0</td>\n",
       "    </tr>\n",
       "    <tr>\n",
       "      <th>4</th>\n",
       "      <td>0.304348</td>\n",
       "      <td>1.0</td>\n",
       "      <td>0.375363</td>\n",
       "      <td>0.0</td>\n",
       "      <td>0.0</td>\n",
       "      <td>0.0</td>\n",
       "      <td>1.0</td>\n",
       "      <td>0.0</td>\n",
       "      <td>0.0</td>\n",
       "    </tr>\n",
       "    <tr>\n",
       "      <th>...</th>\n",
       "      <td>...</td>\n",
       "      <td>...</td>\n",
       "      <td>...</td>\n",
       "      <td>...</td>\n",
       "      <td>...</td>\n",
       "      <td>...</td>\n",
       "      <td>...</td>\n",
       "      <td>...</td>\n",
       "      <td>...</td>\n",
       "    </tr>\n",
       "    <tr>\n",
       "      <th>995</th>\n",
       "      <td>0.456522</td>\n",
       "      <td>0.0</td>\n",
       "      <td>0.212522</td>\n",
       "      <td>0.6</td>\n",
       "      <td>0.0</td>\n",
       "      <td>1.0</td>\n",
       "      <td>0.0</td>\n",
       "      <td>0.0</td>\n",
       "      <td>0.0</td>\n",
       "    </tr>\n",
       "    <tr>\n",
       "      <th>996</th>\n",
       "      <td>0.456522</td>\n",
       "      <td>0.0</td>\n",
       "      <td>0.527019</td>\n",
       "      <td>0.6</td>\n",
       "      <td>0.0</td>\n",
       "      <td>0.0</td>\n",
       "      <td>0.0</td>\n",
       "      <td>0.0</td>\n",
       "      <td>1.0</td>\n",
       "    </tr>\n",
       "    <tr>\n",
       "      <th>997</th>\n",
       "      <td>0.978261</td>\n",
       "      <td>0.0</td>\n",
       "      <td>0.606915</td>\n",
       "      <td>0.0</td>\n",
       "      <td>0.0</td>\n",
       "      <td>0.0</td>\n",
       "      <td>0.0</td>\n",
       "      <td>1.0</td>\n",
       "      <td>0.0</td>\n",
       "    </tr>\n",
       "    <tr>\n",
       "      <th>998</th>\n",
       "      <td>0.326087</td>\n",
       "      <td>0.0</td>\n",
       "      <td>0.590645</td>\n",
       "      <td>0.6</td>\n",
       "      <td>0.0</td>\n",
       "      <td>1.0</td>\n",
       "      <td>0.0</td>\n",
       "      <td>0.0</td>\n",
       "      <td>0.0</td>\n",
       "    </tr>\n",
       "    <tr>\n",
       "      <th>999</th>\n",
       "      <td>0.391304</td>\n",
       "      <td>0.0</td>\n",
       "      <td>0.317403</td>\n",
       "      <td>0.0</td>\n",
       "      <td>0.0</td>\n",
       "      <td>0.0</td>\n",
       "      <td>1.0</td>\n",
       "      <td>0.0</td>\n",
       "      <td>0.0</td>\n",
       "    </tr>\n",
       "  </tbody>\n",
       "</table>\n",
       "<p>1000 rows × 9 columns</p>\n",
       "</div>"
      ],
      "text/plain": [
       "          age  gender       bmi  children  smoker  region_northeast  \\\n",
       "0    0.021739     0.0  0.346891       0.0     1.0               0.0   \n",
       "1    0.000000     1.0  0.517432       0.2     0.0               0.0   \n",
       "2    0.217391     1.0  0.495061       0.6     0.0               0.0   \n",
       "3    0.326087     1.0  0.195962       0.0     0.0               0.0   \n",
       "4    0.304348     1.0  0.375363       0.0     0.0               0.0   \n",
       "..        ...     ...       ...       ...     ...               ...   \n",
       "995  0.456522     0.0  0.212522       0.6     0.0               1.0   \n",
       "996  0.456522     0.0  0.527019       0.6     0.0               0.0   \n",
       "997  0.978261     0.0  0.606915       0.0     0.0               0.0   \n",
       "998  0.326087     0.0  0.590645       0.6     0.0               1.0   \n",
       "999  0.391304     0.0  0.317403       0.0     0.0               0.0   \n",
       "\n",
       "     region_northwest  region_southeast  region_southwest  \n",
       "0                 0.0               0.0               1.0  \n",
       "1                 0.0               1.0               0.0  \n",
       "2                 0.0               1.0               0.0  \n",
       "3                 1.0               0.0               0.0  \n",
       "4                 1.0               0.0               0.0  \n",
       "..                ...               ...               ...  \n",
       "995               0.0               0.0               0.0  \n",
       "996               0.0               0.0               1.0  \n",
       "997               0.0               1.0               0.0  \n",
       "998               0.0               0.0               0.0  \n",
       "999               1.0               0.0               0.0  \n",
       "\n",
       "[1000 rows x 9 columns]"
      ]
     },
     "execution_count": 30,
     "metadata": {},
     "output_type": "execute_result"
    }
   ],
   "source": [
    "# Min_Max_Scaler for Train Data:\n",
    "X_train_pre_df = min_max_scaler(X_train_pre_df)\n",
    "print('\\n\\n                                 Normalized Training Data')\n",
    "X_train_pre_df"
   ]
  },
  {
   "cell_type": "code",
   "execution_count": 31,
   "id": "85f1d704",
   "metadata": {},
   "outputs": [
    {
     "name": "stdout",
     "output_type": "stream",
     "text": [
      "\n",
      "\n",
      "                                  Normalized Test Data\n"
     ]
    },
    {
     "data": {
      "text/html": [
       "<div>\n",
       "<style scoped>\n",
       "    .dataframe tbody tr th:only-of-type {\n",
       "        vertical-align: middle;\n",
       "    }\n",
       "\n",
       "    .dataframe tbody tr th {\n",
       "        vertical-align: top;\n",
       "    }\n",
       "\n",
       "    .dataframe thead th {\n",
       "        text-align: right;\n",
       "    }\n",
       "</style>\n",
       "<table border=\"1\" class=\"dataframe\">\n",
       "  <thead>\n",
       "    <tr style=\"text-align: right;\">\n",
       "      <th></th>\n",
       "      <th>age</th>\n",
       "      <th>gender</th>\n",
       "      <th>bmi</th>\n",
       "      <th>children</th>\n",
       "      <th>smoker</th>\n",
       "      <th>region_northeast</th>\n",
       "      <th>region_northwest</th>\n",
       "      <th>region_southeast</th>\n",
       "      <th>region_southwest</th>\n",
       "    </tr>\n",
       "  </thead>\n",
       "  <tbody>\n",
       "    <tr>\n",
       "      <th>0</th>\n",
       "      <td>0.260870</td>\n",
       "      <td>1.0</td>\n",
       "      <td>0.161519</td>\n",
       "      <td>0.4</td>\n",
       "      <td>1.0</td>\n",
       "      <td>0.0</td>\n",
       "      <td>1.0</td>\n",
       "      <td>0.0</td>\n",
       "      <td>0.0</td>\n",
       "    </tr>\n",
       "    <tr>\n",
       "      <th>1</th>\n",
       "      <td>0.130435</td>\n",
       "      <td>1.0</td>\n",
       "      <td>0.436668</td>\n",
       "      <td>0.0</td>\n",
       "      <td>1.0</td>\n",
       "      <td>0.0</td>\n",
       "      <td>0.0</td>\n",
       "      <td>0.0</td>\n",
       "      <td>1.0</td>\n",
       "    </tr>\n",
       "    <tr>\n",
       "      <th>2</th>\n",
       "      <td>0.130435</td>\n",
       "      <td>1.0</td>\n",
       "      <td>0.241145</td>\n",
       "      <td>0.0</td>\n",
       "      <td>0.0</td>\n",
       "      <td>0.0</td>\n",
       "      <td>0.0</td>\n",
       "      <td>0.0</td>\n",
       "      <td>1.0</td>\n",
       "    </tr>\n",
       "    <tr>\n",
       "      <th>3</th>\n",
       "      <td>0.652174</td>\n",
       "      <td>1.0</td>\n",
       "      <td>0.348824</td>\n",
       "      <td>0.0</td>\n",
       "      <td>0.0</td>\n",
       "      <td>0.0</td>\n",
       "      <td>0.0</td>\n",
       "      <td>0.0</td>\n",
       "      <td>1.0</td>\n",
       "    </tr>\n",
       "    <tr>\n",
       "      <th>4</th>\n",
       "      <td>0.630435</td>\n",
       "      <td>1.0</td>\n",
       "      <td>0.053840</td>\n",
       "      <td>0.2</td>\n",
       "      <td>0.0</td>\n",
       "      <td>1.0</td>\n",
       "      <td>0.0</td>\n",
       "      <td>0.0</td>\n",
       "      <td>0.0</td>\n",
       "    </tr>\n",
       "    <tr>\n",
       "      <th>...</th>\n",
       "      <td>...</td>\n",
       "      <td>...</td>\n",
       "      <td>...</td>\n",
       "      <td>...</td>\n",
       "      <td>...</td>\n",
       "      <td>...</td>\n",
       "      <td>...</td>\n",
       "      <td>...</td>\n",
       "      <td>...</td>\n",
       "    </tr>\n",
       "    <tr>\n",
       "      <th>145</th>\n",
       "      <td>0.739130</td>\n",
       "      <td>1.0</td>\n",
       "      <td>0.438793</td>\n",
       "      <td>0.6</td>\n",
       "      <td>0.0</td>\n",
       "      <td>0.0</td>\n",
       "      <td>1.0</td>\n",
       "      <td>0.0</td>\n",
       "      <td>0.0</td>\n",
       "    </tr>\n",
       "    <tr>\n",
       "      <th>146</th>\n",
       "      <td>0.913043</td>\n",
       "      <td>1.0</td>\n",
       "      <td>0.439501</td>\n",
       "      <td>0.0</td>\n",
       "      <td>1.0</td>\n",
       "      <td>0.0</td>\n",
       "      <td>0.0</td>\n",
       "      <td>0.0</td>\n",
       "      <td>1.0</td>\n",
       "    </tr>\n",
       "    <tr>\n",
       "      <th>147</th>\n",
       "      <td>0.043478</td>\n",
       "      <td>0.0</td>\n",
       "      <td>0.414565</td>\n",
       "      <td>0.0</td>\n",
       "      <td>0.0</td>\n",
       "      <td>0.0</td>\n",
       "      <td>1.0</td>\n",
       "      <td>0.0</td>\n",
       "      <td>0.0</td>\n",
       "    </tr>\n",
       "    <tr>\n",
       "      <th>148</th>\n",
       "      <td>0.804348</td>\n",
       "      <td>1.0</td>\n",
       "      <td>0.119297</td>\n",
       "      <td>0.2</td>\n",
       "      <td>0.0</td>\n",
       "      <td>0.0</td>\n",
       "      <td>0.0</td>\n",
       "      <td>0.0</td>\n",
       "      <td>1.0</td>\n",
       "    </tr>\n",
       "    <tr>\n",
       "      <th>149</th>\n",
       "      <td>0.521739</td>\n",
       "      <td>1.0</td>\n",
       "      <td>0.476339</td>\n",
       "      <td>0.0</td>\n",
       "      <td>0.0</td>\n",
       "      <td>0.0</td>\n",
       "      <td>0.0</td>\n",
       "      <td>0.0</td>\n",
       "      <td>1.0</td>\n",
       "    </tr>\n",
       "  </tbody>\n",
       "</table>\n",
       "<p>150 rows × 9 columns</p>\n",
       "</div>"
      ],
      "text/plain": [
       "          age  gender       bmi  children  smoker  region_northeast  \\\n",
       "0    0.260870     1.0  0.161519       0.4     1.0               0.0   \n",
       "1    0.130435     1.0  0.436668       0.0     1.0               0.0   \n",
       "2    0.130435     1.0  0.241145       0.0     0.0               0.0   \n",
       "3    0.652174     1.0  0.348824       0.0     0.0               0.0   \n",
       "4    0.630435     1.0  0.053840       0.2     0.0               1.0   \n",
       "..        ...     ...       ...       ...     ...               ...   \n",
       "145  0.739130     1.0  0.438793       0.6     0.0               0.0   \n",
       "146  0.913043     1.0  0.439501       0.0     1.0               0.0   \n",
       "147  0.043478     0.0  0.414565       0.0     0.0               0.0   \n",
       "148  0.804348     1.0  0.119297       0.2     0.0               0.0   \n",
       "149  0.521739     1.0  0.476339       0.0     0.0               0.0   \n",
       "\n",
       "     region_northwest  region_southeast  region_southwest  \n",
       "0                 1.0               0.0               0.0  \n",
       "1                 0.0               0.0               1.0  \n",
       "2                 0.0               0.0               1.0  \n",
       "3                 0.0               0.0               1.0  \n",
       "4                 0.0               0.0               0.0  \n",
       "..                ...               ...               ...  \n",
       "145               1.0               0.0               0.0  \n",
       "146               0.0               0.0               1.0  \n",
       "147               1.0               0.0               0.0  \n",
       "148               0.0               0.0               1.0  \n",
       "149               0.0               0.0               1.0  \n",
       "\n",
       "[150 rows x 9 columns]"
      ]
     },
     "execution_count": 31,
     "metadata": {},
     "output_type": "execute_result"
    }
   ],
   "source": [
    "# Min_Max_Scaler for Test Data:\n",
    "X_test_pre_df = min_max_scaler(X_test_pre_df)\n",
    "print('\\n\\n                                  Normalized Test Data')\n",
    "X_test_pre_df"
   ]
  },
  {
   "cell_type": "code",
   "execution_count": 32,
   "id": "dab44a3d",
   "metadata": {},
   "outputs": [
    {
     "name": "stdout",
     "output_type": "stream",
     "text": [
      "\n",
      "\n",
      "                              Final Preprocessed Training Data\n"
     ]
    },
    {
     "data": {
      "text/html": [
       "<div>\n",
       "<style scoped>\n",
       "    .dataframe tbody tr th:only-of-type {\n",
       "        vertical-align: middle;\n",
       "    }\n",
       "\n",
       "    .dataframe tbody tr th {\n",
       "        vertical-align: top;\n",
       "    }\n",
       "\n",
       "    .dataframe thead th {\n",
       "        text-align: right;\n",
       "    }\n",
       "</style>\n",
       "<table border=\"1\" class=\"dataframe\">\n",
       "  <thead>\n",
       "    <tr style=\"text-align: right;\">\n",
       "      <th></th>\n",
       "      <th>x0</th>\n",
       "      <th>age</th>\n",
       "      <th>gender</th>\n",
       "      <th>bmi</th>\n",
       "      <th>children</th>\n",
       "      <th>smoker</th>\n",
       "      <th>region_northeast</th>\n",
       "      <th>region_northwest</th>\n",
       "      <th>region_southeast</th>\n",
       "      <th>region_southwest</th>\n",
       "    </tr>\n",
       "  </thead>\n",
       "  <tbody>\n",
       "    <tr>\n",
       "      <th>0</th>\n",
       "      <td>1.0</td>\n",
       "      <td>0.021739</td>\n",
       "      <td>0.0</td>\n",
       "      <td>0.346891</td>\n",
       "      <td>0.0</td>\n",
       "      <td>1.0</td>\n",
       "      <td>0.0</td>\n",
       "      <td>0.0</td>\n",
       "      <td>0.0</td>\n",
       "      <td>1.0</td>\n",
       "    </tr>\n",
       "    <tr>\n",
       "      <th>1</th>\n",
       "      <td>1.0</td>\n",
       "      <td>0.000000</td>\n",
       "      <td>1.0</td>\n",
       "      <td>0.517432</td>\n",
       "      <td>0.2</td>\n",
       "      <td>0.0</td>\n",
       "      <td>0.0</td>\n",
       "      <td>0.0</td>\n",
       "      <td>1.0</td>\n",
       "      <td>0.0</td>\n",
       "    </tr>\n",
       "    <tr>\n",
       "      <th>2</th>\n",
       "      <td>1.0</td>\n",
       "      <td>0.217391</td>\n",
       "      <td>1.0</td>\n",
       "      <td>0.495061</td>\n",
       "      <td>0.6</td>\n",
       "      <td>0.0</td>\n",
       "      <td>0.0</td>\n",
       "      <td>0.0</td>\n",
       "      <td>1.0</td>\n",
       "      <td>0.0</td>\n",
       "    </tr>\n",
       "    <tr>\n",
       "      <th>3</th>\n",
       "      <td>1.0</td>\n",
       "      <td>0.326087</td>\n",
       "      <td>1.0</td>\n",
       "      <td>0.195962</td>\n",
       "      <td>0.0</td>\n",
       "      <td>0.0</td>\n",
       "      <td>0.0</td>\n",
       "      <td>1.0</td>\n",
       "      <td>0.0</td>\n",
       "      <td>0.0</td>\n",
       "    </tr>\n",
       "    <tr>\n",
       "      <th>4</th>\n",
       "      <td>1.0</td>\n",
       "      <td>0.304348</td>\n",
       "      <td>1.0</td>\n",
       "      <td>0.375363</td>\n",
       "      <td>0.0</td>\n",
       "      <td>0.0</td>\n",
       "      <td>0.0</td>\n",
       "      <td>1.0</td>\n",
       "      <td>0.0</td>\n",
       "      <td>0.0</td>\n",
       "    </tr>\n",
       "    <tr>\n",
       "      <th>...</th>\n",
       "      <td>...</td>\n",
       "      <td>...</td>\n",
       "      <td>...</td>\n",
       "      <td>...</td>\n",
       "      <td>...</td>\n",
       "      <td>...</td>\n",
       "      <td>...</td>\n",
       "      <td>...</td>\n",
       "      <td>...</td>\n",
       "      <td>...</td>\n",
       "    </tr>\n",
       "    <tr>\n",
       "      <th>995</th>\n",
       "      <td>1.0</td>\n",
       "      <td>0.456522</td>\n",
       "      <td>0.0</td>\n",
       "      <td>0.212522</td>\n",
       "      <td>0.6</td>\n",
       "      <td>0.0</td>\n",
       "      <td>1.0</td>\n",
       "      <td>0.0</td>\n",
       "      <td>0.0</td>\n",
       "      <td>0.0</td>\n",
       "    </tr>\n",
       "    <tr>\n",
       "      <th>996</th>\n",
       "      <td>1.0</td>\n",
       "      <td>0.456522</td>\n",
       "      <td>0.0</td>\n",
       "      <td>0.527019</td>\n",
       "      <td>0.6</td>\n",
       "      <td>0.0</td>\n",
       "      <td>0.0</td>\n",
       "      <td>0.0</td>\n",
       "      <td>0.0</td>\n",
       "      <td>1.0</td>\n",
       "    </tr>\n",
       "    <tr>\n",
       "      <th>997</th>\n",
       "      <td>1.0</td>\n",
       "      <td>0.978261</td>\n",
       "      <td>0.0</td>\n",
       "      <td>0.606915</td>\n",
       "      <td>0.0</td>\n",
       "      <td>0.0</td>\n",
       "      <td>0.0</td>\n",
       "      <td>0.0</td>\n",
       "      <td>1.0</td>\n",
       "      <td>0.0</td>\n",
       "    </tr>\n",
       "    <tr>\n",
       "      <th>998</th>\n",
       "      <td>1.0</td>\n",
       "      <td>0.326087</td>\n",
       "      <td>0.0</td>\n",
       "      <td>0.590645</td>\n",
       "      <td>0.6</td>\n",
       "      <td>0.0</td>\n",
       "      <td>1.0</td>\n",
       "      <td>0.0</td>\n",
       "      <td>0.0</td>\n",
       "      <td>0.0</td>\n",
       "    </tr>\n",
       "    <tr>\n",
       "      <th>999</th>\n",
       "      <td>1.0</td>\n",
       "      <td>0.391304</td>\n",
       "      <td>0.0</td>\n",
       "      <td>0.317403</td>\n",
       "      <td>0.0</td>\n",
       "      <td>0.0</td>\n",
       "      <td>0.0</td>\n",
       "      <td>1.0</td>\n",
       "      <td>0.0</td>\n",
       "      <td>0.0</td>\n",
       "    </tr>\n",
       "  </tbody>\n",
       "</table>\n",
       "<p>1000 rows × 10 columns</p>\n",
       "</div>"
      ],
      "text/plain": [
       "      x0       age  gender       bmi  children  smoker  region_northeast  \\\n",
       "0    1.0  0.021739     0.0  0.346891       0.0     1.0               0.0   \n",
       "1    1.0  0.000000     1.0  0.517432       0.2     0.0               0.0   \n",
       "2    1.0  0.217391     1.0  0.495061       0.6     0.0               0.0   \n",
       "3    1.0  0.326087     1.0  0.195962       0.0     0.0               0.0   \n",
       "4    1.0  0.304348     1.0  0.375363       0.0     0.0               0.0   \n",
       "..   ...       ...     ...       ...       ...     ...               ...   \n",
       "995  1.0  0.456522     0.0  0.212522       0.6     0.0               1.0   \n",
       "996  1.0  0.456522     0.0  0.527019       0.6     0.0               0.0   \n",
       "997  1.0  0.978261     0.0  0.606915       0.0     0.0               0.0   \n",
       "998  1.0  0.326087     0.0  0.590645       0.6     0.0               1.0   \n",
       "999  1.0  0.391304     0.0  0.317403       0.0     0.0               0.0   \n",
       "\n",
       "     region_northwest  region_southeast  region_southwest  \n",
       "0                 0.0               0.0               1.0  \n",
       "1                 0.0               1.0               0.0  \n",
       "2                 0.0               1.0               0.0  \n",
       "3                 1.0               0.0               0.0  \n",
       "4                 1.0               0.0               0.0  \n",
       "..                ...               ...               ...  \n",
       "995               0.0               0.0               0.0  \n",
       "996               0.0               0.0               1.0  \n",
       "997               0.0               1.0               0.0  \n",
       "998               0.0               0.0               0.0  \n",
       "999               1.0               0.0               0.0  \n",
       "\n",
       "[1000 rows x 10 columns]"
      ]
     },
     "execution_count": 32,
     "metadata": {},
     "output_type": "execute_result"
    }
   ],
   "source": [
    "m_train = X_train_pre_df.shape[0]\n",
    "X_train_new_df = pd.DataFrame({'x0': np.ones((m_train, )), 'age': X_train_pre_df['age'], \\\n",
    "                               'gender': X_train_pre_df['gender'], \\\n",
    "'bmi': X_train_pre_df['bmi'], 'children': X_train_pre_df['children'], \\\n",
    "'smoker': X_train_pre_df['smoker'], 'region_northeast': X_train_pre_df['region_northeast'], \\\n",
    "'region_northwest': X_train_pre_df['region_northwest'], 'region_southeast': X_train_pre_df['region_southeast'], \\\n",
    "'region_southwest': X_train_pre_df['region_southwest']})\n",
    "print('\\n\\n                              Final Preprocessed Training Data')\n",
    "X_train_new_df"
   ]
  },
  {
   "cell_type": "code",
   "execution_count": 33,
   "id": "8670bb47",
   "metadata": {},
   "outputs": [
    {
     "name": "stdout",
     "output_type": "stream",
     "text": [
      "\n",
      "\n",
      "                                  Final Preprocessed Test Data\n"
     ]
    },
    {
     "data": {
      "text/html": [
       "<div>\n",
       "<style scoped>\n",
       "    .dataframe tbody tr th:only-of-type {\n",
       "        vertical-align: middle;\n",
       "    }\n",
       "\n",
       "    .dataframe tbody tr th {\n",
       "        vertical-align: top;\n",
       "    }\n",
       "\n",
       "    .dataframe thead th {\n",
       "        text-align: right;\n",
       "    }\n",
       "</style>\n",
       "<table border=\"1\" class=\"dataframe\">\n",
       "  <thead>\n",
       "    <tr style=\"text-align: right;\">\n",
       "      <th></th>\n",
       "      <th>x0</th>\n",
       "      <th>age</th>\n",
       "      <th>gender</th>\n",
       "      <th>bmi</th>\n",
       "      <th>children</th>\n",
       "      <th>smoker</th>\n",
       "      <th>region_northeast</th>\n",
       "      <th>region_northwest</th>\n",
       "      <th>region_southeast</th>\n",
       "      <th>region_southwest</th>\n",
       "    </tr>\n",
       "  </thead>\n",
       "  <tbody>\n",
       "    <tr>\n",
       "      <th>0</th>\n",
       "      <td>1.0</td>\n",
       "      <td>0.260870</td>\n",
       "      <td>1.0</td>\n",
       "      <td>0.161519</td>\n",
       "      <td>0.4</td>\n",
       "      <td>1.0</td>\n",
       "      <td>0.0</td>\n",
       "      <td>1.0</td>\n",
       "      <td>0.0</td>\n",
       "      <td>0.0</td>\n",
       "    </tr>\n",
       "    <tr>\n",
       "      <th>1</th>\n",
       "      <td>1.0</td>\n",
       "      <td>0.130435</td>\n",
       "      <td>1.0</td>\n",
       "      <td>0.436668</td>\n",
       "      <td>0.0</td>\n",
       "      <td>1.0</td>\n",
       "      <td>0.0</td>\n",
       "      <td>0.0</td>\n",
       "      <td>0.0</td>\n",
       "      <td>1.0</td>\n",
       "    </tr>\n",
       "    <tr>\n",
       "      <th>2</th>\n",
       "      <td>1.0</td>\n",
       "      <td>0.130435</td>\n",
       "      <td>1.0</td>\n",
       "      <td>0.241145</td>\n",
       "      <td>0.0</td>\n",
       "      <td>0.0</td>\n",
       "      <td>0.0</td>\n",
       "      <td>0.0</td>\n",
       "      <td>0.0</td>\n",
       "      <td>1.0</td>\n",
       "    </tr>\n",
       "    <tr>\n",
       "      <th>3</th>\n",
       "      <td>1.0</td>\n",
       "      <td>0.652174</td>\n",
       "      <td>1.0</td>\n",
       "      <td>0.348824</td>\n",
       "      <td>0.0</td>\n",
       "      <td>0.0</td>\n",
       "      <td>0.0</td>\n",
       "      <td>0.0</td>\n",
       "      <td>0.0</td>\n",
       "      <td>1.0</td>\n",
       "    </tr>\n",
       "    <tr>\n",
       "      <th>4</th>\n",
       "      <td>1.0</td>\n",
       "      <td>0.630435</td>\n",
       "      <td>1.0</td>\n",
       "      <td>0.053840</td>\n",
       "      <td>0.2</td>\n",
       "      <td>0.0</td>\n",
       "      <td>1.0</td>\n",
       "      <td>0.0</td>\n",
       "      <td>0.0</td>\n",
       "      <td>0.0</td>\n",
       "    </tr>\n",
       "    <tr>\n",
       "      <th>...</th>\n",
       "      <td>...</td>\n",
       "      <td>...</td>\n",
       "      <td>...</td>\n",
       "      <td>...</td>\n",
       "      <td>...</td>\n",
       "      <td>...</td>\n",
       "      <td>...</td>\n",
       "      <td>...</td>\n",
       "      <td>...</td>\n",
       "      <td>...</td>\n",
       "    </tr>\n",
       "    <tr>\n",
       "      <th>145</th>\n",
       "      <td>1.0</td>\n",
       "      <td>0.739130</td>\n",
       "      <td>1.0</td>\n",
       "      <td>0.438793</td>\n",
       "      <td>0.6</td>\n",
       "      <td>0.0</td>\n",
       "      <td>0.0</td>\n",
       "      <td>1.0</td>\n",
       "      <td>0.0</td>\n",
       "      <td>0.0</td>\n",
       "    </tr>\n",
       "    <tr>\n",
       "      <th>146</th>\n",
       "      <td>1.0</td>\n",
       "      <td>0.913043</td>\n",
       "      <td>1.0</td>\n",
       "      <td>0.439501</td>\n",
       "      <td>0.0</td>\n",
       "      <td>1.0</td>\n",
       "      <td>0.0</td>\n",
       "      <td>0.0</td>\n",
       "      <td>0.0</td>\n",
       "      <td>1.0</td>\n",
       "    </tr>\n",
       "    <tr>\n",
       "      <th>147</th>\n",
       "      <td>1.0</td>\n",
       "      <td>0.043478</td>\n",
       "      <td>0.0</td>\n",
       "      <td>0.414565</td>\n",
       "      <td>0.0</td>\n",
       "      <td>0.0</td>\n",
       "      <td>0.0</td>\n",
       "      <td>1.0</td>\n",
       "      <td>0.0</td>\n",
       "      <td>0.0</td>\n",
       "    </tr>\n",
       "    <tr>\n",
       "      <th>148</th>\n",
       "      <td>1.0</td>\n",
       "      <td>0.804348</td>\n",
       "      <td>1.0</td>\n",
       "      <td>0.119297</td>\n",
       "      <td>0.2</td>\n",
       "      <td>0.0</td>\n",
       "      <td>0.0</td>\n",
       "      <td>0.0</td>\n",
       "      <td>0.0</td>\n",
       "      <td>1.0</td>\n",
       "    </tr>\n",
       "    <tr>\n",
       "      <th>149</th>\n",
       "      <td>1.0</td>\n",
       "      <td>0.521739</td>\n",
       "      <td>1.0</td>\n",
       "      <td>0.476339</td>\n",
       "      <td>0.0</td>\n",
       "      <td>0.0</td>\n",
       "      <td>0.0</td>\n",
       "      <td>0.0</td>\n",
       "      <td>0.0</td>\n",
       "      <td>1.0</td>\n",
       "    </tr>\n",
       "  </tbody>\n",
       "</table>\n",
       "<p>150 rows × 10 columns</p>\n",
       "</div>"
      ],
      "text/plain": [
       "      x0       age  gender       bmi  children  smoker  region_northeast  \\\n",
       "0    1.0  0.260870     1.0  0.161519       0.4     1.0               0.0   \n",
       "1    1.0  0.130435     1.0  0.436668       0.0     1.0               0.0   \n",
       "2    1.0  0.130435     1.0  0.241145       0.0     0.0               0.0   \n",
       "3    1.0  0.652174     1.0  0.348824       0.0     0.0               0.0   \n",
       "4    1.0  0.630435     1.0  0.053840       0.2     0.0               1.0   \n",
       "..   ...       ...     ...       ...       ...     ...               ...   \n",
       "145  1.0  0.739130     1.0  0.438793       0.6     0.0               0.0   \n",
       "146  1.0  0.913043     1.0  0.439501       0.0     1.0               0.0   \n",
       "147  1.0  0.043478     0.0  0.414565       0.0     0.0               0.0   \n",
       "148  1.0  0.804348     1.0  0.119297       0.2     0.0               0.0   \n",
       "149  1.0  0.521739     1.0  0.476339       0.0     0.0               0.0   \n",
       "\n",
       "     region_northwest  region_southeast  region_southwest  \n",
       "0                 1.0               0.0               0.0  \n",
       "1                 0.0               0.0               1.0  \n",
       "2                 0.0               0.0               1.0  \n",
       "3                 0.0               0.0               1.0  \n",
       "4                 0.0               0.0               0.0  \n",
       "..                ...               ...               ...  \n",
       "145               1.0               0.0               0.0  \n",
       "146               0.0               0.0               1.0  \n",
       "147               1.0               0.0               0.0  \n",
       "148               0.0               0.0               1.0  \n",
       "149               0.0               0.0               1.0  \n",
       "\n",
       "[150 rows x 10 columns]"
      ]
     },
     "execution_count": 33,
     "metadata": {},
     "output_type": "execute_result"
    }
   ],
   "source": [
    "m_test = X_test_pre_df.shape[0]\n",
    "X_test_new_df = pd.DataFrame({'x0': np.ones((m_test, )), 'age': X_test_pre_df['age'], \\\n",
    "'gender': X_test_pre_df['gender'], 'bmi': X_test_pre_df['bmi'], 'children': X_test_pre_df['children'], \\\n",
    "'smoker': X_test_pre_df['smoker'], 'region_northeast': X_test_pre_df['region_northeast'], \\\n",
    "'region_northwest': X_test_pre_df['region_northwest'], 'region_southeast': X_test_pre_df['region_southeast'], \\\n",
    "'region_southwest': X_test_pre_df['region_southwest']})\n",
    "print('\\n\\n                                  Final Preprocessed Test Data')\n",
    "X_test_new_df"
   ]
  },
  {
   "cell_type": "code",
   "execution_count": 250,
   "id": "6dc3e475",
   "metadata": {},
   "outputs": [],
   "source": [
    "#      X_test_new_df             ---------          X_train_new_df\n",
    "# ------------------------>>    |  Model |    <<--------------------------\n",
    "#       (For_Prob)              ---------            (Back_Prob)"
   ]
  },
  {
   "cell_type": "markdown",
   "id": "86ad27d3",
   "metadata": {},
   "source": [
    "- - ${\\bf{Q:}}\\text{ Why is OHE better at encoding regional features compared to integer encoding?}$\n",
    "$\\newline$\n",
    "$\\newline$\n",
    "- - - $\\text{Answer:}$\n",
    "$\\newline$\n",
    "$\\text{Because there is no ordering relationship between regional features.}$"
   ]
  },
  {
   "cell_type": "markdown",
   "id": "d791b231",
   "metadata": {},
   "source": [
    "> > ${\\bf{\\text{Note:}}}{\\text{ set the basis function for feature bmi to }} {x^{2}.} \\text{ ( use }{bmi^{2}}\\text{ instead of bmi feature ).}$"
   ]
  },
  {
   "cell_type": "markdown",
   "id": "13179813",
   "metadata": {},
   "source": [
    "- - $\\text{1. Calculate w by closed-form solution calculated by MSE method.}$\n",
    "$\\newline$\n",
    "$\\newline$\n",
    "- - - $\\text{Answer:}$\n",
    "$\\newline$\n",
    "$\\newline$\n",
    "$${\\bf{w^{*}}} = ({\\bf{X}}^{T}{\\bf{X}})^{-1} {\\bf{X}}^{T}{\\bf{y}}$$\n",
    "$\\newline$\n",
    "$\\newline$\n",
    "$\\text{By implementing in Python: }$\n",
    "$\\newline$\n",
    "$\\newline$\n",
    "$${\\bf{{w}^{*}}}{\\,}{=}{\\;\\;} {\\begin{pmatrix}1.115780 \\\\  0.196793 \\\\ -0.004687 \\\\\n",
    "0.201581 \\\\ 0.031830 \\\\ 0.370975 \\\\ -0.482970 \\\\ -0.566448 \\\\\n",
    " -0.496574 \\\\ -0.426065\\end{pmatrix}}$$\n",
    "$\\newline$\n",
    "$\\newline$"
   ]
  },
  {
   "cell_type": "code",
   "execution_count": 34,
   "id": "fc072b3b",
   "metadata": {},
   "outputs": [],
   "source": [
    "X_train_ndarray = np.array(X_train_new_df)\n",
    "\n",
    "y_train_normal_df = min_max_scaler(y_train_df)\n",
    "y_train_ndarray = np.array(y_train_normal_df)\n",
    "\n",
    "y_test_normal_df = min_max_scaler(y_test_df)\n",
    "y_test_ndarray = np.array(y_test_normal_df)"
   ]
  },
  {
   "cell_type": "code",
   "execution_count": 35,
   "id": "5c74b534",
   "metadata": {},
   "outputs": [],
   "source": [
    "X_train_new_sett_ndarray = X_train_ndarray.copy()\n",
    "X_train_new_sett_ndarray[:, 3] = X_train_ndarray[:, 3]**2\n",
    "y_train_new_sett_ndarray = y_train_ndarray\n",
    "\n",
    "X_test_new_sett_ndarray = np.array(X_test_new_df)\n",
    "X_test_new_sett_ndarray[:, 3] = X_test_new_sett_ndarray[:, 3]**2\n",
    "y_test_new_sett_ndarray = y_test_ndarray"
   ]
  },
  {
   "cell_type": "code",
   "execution_count": 36,
   "id": "458b0693",
   "metadata": {},
   "outputs": [
    {
     "data": {
      "text/html": [
       "<div>\n",
       "<style scoped>\n",
       "    .dataframe tbody tr th:only-of-type {\n",
       "        vertical-align: middle;\n",
       "    }\n",
       "\n",
       "    .dataframe tbody tr th {\n",
       "        vertical-align: top;\n",
       "    }\n",
       "\n",
       "    .dataframe thead th {\n",
       "        text-align: right;\n",
       "    }\n",
       "</style>\n",
       "<table border=\"1\" class=\"dataframe\">\n",
       "  <thead>\n",
       "    <tr style=\"text-align: right;\">\n",
       "      <th></th>\n",
       "      <th>W</th>\n",
       "    </tr>\n",
       "  </thead>\n",
       "  <tbody>\n",
       "    <tr>\n",
       "      <th>w0</th>\n",
       "      <td>1.115780</td>\n",
       "    </tr>\n",
       "    <tr>\n",
       "      <th>w1</th>\n",
       "      <td>0.196793</td>\n",
       "    </tr>\n",
       "    <tr>\n",
       "      <th>w2</th>\n",
       "      <td>-0.004687</td>\n",
       "    </tr>\n",
       "    <tr>\n",
       "      <th>w3</th>\n",
       "      <td>0.201581</td>\n",
       "    </tr>\n",
       "    <tr>\n",
       "      <th>w4</th>\n",
       "      <td>0.031830</td>\n",
       "    </tr>\n",
       "    <tr>\n",
       "      <th>w5</th>\n",
       "      <td>0.370975</td>\n",
       "    </tr>\n",
       "    <tr>\n",
       "      <th>w6</th>\n",
       "      <td>-0.482970</td>\n",
       "    </tr>\n",
       "    <tr>\n",
       "      <th>w7</th>\n",
       "      <td>-0.566448</td>\n",
       "    </tr>\n",
       "    <tr>\n",
       "      <th>w8</th>\n",
       "      <td>-0.496574</td>\n",
       "    </tr>\n",
       "    <tr>\n",
       "      <th>w9</th>\n",
       "      <td>-0.426065</td>\n",
       "    </tr>\n",
       "  </tbody>\n",
       "</table>\n",
       "</div>"
      ],
      "text/plain": [
       "           W\n",
       "w0  1.115780\n",
       "w1  0.196793\n",
       "w2 -0.004687\n",
       "w3  0.201581\n",
       "w4  0.031830\n",
       "w5  0.370975\n",
       "w6 -0.482970\n",
       "w7 -0.566448\n",
       "w8 -0.496574\n",
       "w9 -0.426065"
      ]
     },
     "execution_count": 36,
     "metadata": {},
     "output_type": "execute_result"
    }
   ],
   "source": [
    "w_opt = np.linalg.inv(X_train_new_sett_ndarray.T @ X_train_new_sett_ndarray) @ \\\n",
    "X_train_new_sett_ndarray.T @ y_train_new_sett_ndarray\n",
    "pd.DataFrame({'W': w_opt.ravel()}, index=['w0', 'w1', 'w2', 'w3', 'w4', 'w5', 'w6', 'w7', 'w8', 'w9'])"
   ]
  },
  {
   "cell_type": "code",
   "execution_count": 37,
   "id": "a0aec27f",
   "metadata": {},
   "outputs": [],
   "source": [
    "X_train = X_train_new_sett_ndarray.copy()\n",
    "y_train = y_train_new_sett_ndarray.copy()\n",
    "m_train = X_train.shape[0]\n",
    "\n",
    "X_test = X_test_new_sett_ndarray.copy()\n",
    "y_test = y_test_new_sett_ndarray.copy()\n",
    "m_test = X_test.shape[0]\n",
    "\n",
    "w_opt = np.linalg.inv(X_train.T @ X_train) @ X_train.T @ y_train\n",
    "J_train = (1/(2*m_train))*np.linalg.norm(X_train @ w_opt - y_train)**2\n",
    "J_test = (1/(2*m_test))*np.linalg.norm(X_test @ w_opt - y_test)**2"
   ]
  },
  {
   "cell_type": "code",
   "execution_count": 40,
   "id": "98293173",
   "metadata": {},
   "outputs": [
    {
     "name": "stdout",
     "output_type": "stream",
     "text": [
      "\n",
      "J(θ) for train:\n",
      "\n",
      "0.21493123965683714\n",
      "\n",
      "\n",
      "\n",
      "J(θ) for test:\n",
      "\n",
      "0.17653574740460437\n"
     ]
    }
   ],
   "source": [
    "print(f'\\nJ(\\u03B8) for train:\\n\\n{J_train}')\n",
    "print(f'\\n\\n\\nJ(\\u03B8) for test:\\n\\n{J_test}')"
   ]
  },
  {
   "cell_type": "code",
   "execution_count": 38,
   "id": "bda4abc1",
   "metadata": {},
   "outputs": [
    {
     "data": {
      "image/png": "[encoded data removed]",
      "text/plain": [
       "<Figure size 640x480 with 1 Axes>"
      ]
     },
     "metadata": {},
     "output_type": "display_data"
    }
   ],
   "source": [
    "plt.figure()\n",
    "plt.plot(J_train, marker='*', c='blue', label='$J_{\\; train}$')\n",
    "plt.plot(J_test, marker='*', c='red', label='$J_{\\; test}$'), plt.ylabel('$J_{(\\\\theta)}$')\n",
    "plt.xlim([-0.05, 0.05]), plt.ylim([0, 0.3])\n",
    "plt.legend()\n",
    "plt.show()"
   ]
  },
  {
   "cell_type": "code",
   "execution_count": 39,
   "id": "4986ca67",
   "metadata": {},
   "outputs": [
    {
     "name": "stdout",
     "output_type": "stream",
     "text": [
      "\n",
      "\n",
      "                       X_Train[:10, :4] \n",
      "\n",
      "\n",
      "\n"
     ]
    },
    {
     "data": {
      "text/plain": [
       "array([[1.        , 0.02173913, 0.        , 0.1203336 ],\n",
       "       [1.        , 0.        , 1.        , 0.26773559],\n",
       "       [1.        , 0.2173913 , 1.        , 0.2450854 ],\n",
       "       [1.        , 0.32608696, 1.        , 0.03840097],\n",
       "       [1.        , 0.30434783, 1.        , 0.1408975 ],\n",
       "       [1.        , 0.2826087 , 0.        , 0.08073391],\n",
       "       [1.        , 0.60869565, 0.        , 0.25790581],\n",
       "       [1.        , 0.41304348, 0.        , 0.11713019],\n",
       "       [1.        , 0.41304348, 1.        , 0.1623795 ],\n",
       "       [1.        , 0.91304348, 0.        , 0.08239335]])"
      ]
     },
     "execution_count": 39,
     "metadata": {},
     "output_type": "execute_result"
    }
   ],
   "source": [
    "print('\\n\\n                       X_Train[:10, :4] \\n\\n\\n')\n",
    "X_train_new_sett_ndarray[:10, :4]"
   ]
  },
  {
   "cell_type": "code",
   "execution_count": 40,
   "id": "9609d4c5",
   "metadata": {},
   "outputs": [
    {
     "name": "stdout",
     "output_type": "stream",
     "text": [
      "\n",
      "\n",
      "                        X_Test[:10, :4] \n",
      "\n",
      "\n",
      "\n"
     ]
    },
    {
     "data": {
      "text/plain": [
       "array([[1.        , 0.26086957, 1.        , 0.02608834],\n",
       "       [1.        , 0.13043478, 1.        , 0.1906786 ],\n",
       "       [1.        , 0.13043478, 1.        , 0.05815081],\n",
       "       [1.        , 0.65217391, 1.        , 0.1216782 ],\n",
       "       [1.        , 0.63043478, 1.        , 0.0028987 ],\n",
       "       [1.        , 0.23913043, 1.        , 0.16742915],\n",
       "       [1.        , 0.2173913 , 1.        , 0.11504957],\n",
       "       [1.        , 0.63043478, 1.        , 0.0958384 ],\n",
       "       [1.        , 0.15217391, 1.        , 0.04754599],\n",
       "       [1.        , 0.7173913 , 1.        , 0.0876858 ]])"
      ]
     },
     "execution_count": 40,
     "metadata": {},
     "output_type": "execute_result"
    }
   ],
   "source": [
    "print('\\n\\n                        X_Test[:10, :4] \\n\\n\\n')\n",
    "X_test_new_sett_ndarray[:10, :4]"
   ]
  },
  {
   "cell_type": "markdown",
   "id": "f3326845",
   "metadata": {},
   "source": [
    "- - $\\text{2. At first, assume that the total training data is 10, then gradually increase the training\n",
    "data (with step size equals to 10) }\n",
    "\\newline\n",
    "\\text{until reach out to 1000. In each step, report the test error\n",
    "(MSE) in a diagram.}$"
   ]
  },
  {
   "cell_type": "code",
   "execution_count": 44,
   "id": "eae08051",
   "metadata": {},
   "outputs": [],
   "source": [
    "X_test = X_test_new_sett_ndarray\n",
    "y_test = y_test_new_sett_ndarray\n",
    "m_test = X_test.shape[0]\n",
    "eps = 1e-9\n",
    "n = X_train_new_sett_ndarray.shape[1]\n",
    "I_n = np.ones((n, n))\n",
    "J_test1_list = []\n",
    "\n",
    "for i in range(1, 101):\n",
    "    try:\n",
    "        X_train = X_train_new_sett_ndarray[: 10*i]\n",
    "        y_train = y_train_new_sett_ndarray[: 10*i]\n",
    "        \n",
    "        w_trained = np.linalg.inv(X_train.T @ X_train) @ X_train.T @ y_train\n",
    "        \n",
    "        J_closed_form = np.linalg.norm(X_test @ w_trained - y_test)\n",
    "        J_closed_form = (J_closed_form**2) / (2*m_test)\n",
    "        J_test1_list.append(J_closed_form)\n",
    "    except: \n",
    "        w_trained = np.linalg.inv((X_train.T @ X_train) + eps*I_n) @ X_train.T @ y_train\n",
    "        J_closed_form = np.linalg.norm(X_test @ w_trained - y_test, ord=2)\n",
    "        J_closed_form = (J_closed_form**2) / (2*m_test)\n",
    "        J_test1_list.append(J_closed_form)\n",
    "\n",
    "J_test1_ndarray = np.array(J_test1_list)"
   ]
  },
  {
   "cell_type": "code",
   "execution_count": 45,
   "id": "e39c0fd5",
   "metadata": {},
   "outputs": [
    {
     "data": {
      "text/plain": [
       "(100,)"
      ]
     },
     "execution_count": 45,
     "metadata": {},
     "output_type": "execute_result"
    }
   ],
   "source": [
    "J_test1_ndarray.shape"
   ]
  },
  {
   "cell_type": "code",
   "execution_count": 46,
   "id": "2e979075",
   "metadata": {},
   "outputs": [
    {
     "data": {
      "image/png": "[encoded data removed]",
      "text/plain": [
       "<Figure size 640x480 with 1 Axes>"
      ]
     },
     "metadata": {},
     "output_type": "display_data"
    }
   ],
   "source": [
    "J1_closed_form = J_test1_ndarray\n",
    "levels = np.arange(len(J1_closed_form))\n",
    "plt.plot(levels, J1_closed_form, c='blue'), plt.title('Closed-form method', fontsize=10), \\\n",
    "plt.ylabel('$J_{test}$'), \\\n",
    "plt.xlabel('$No.\\; steps$')\n",
    "plt.show()"
   ]
  },
  {
   "cell_type": "code",
   "execution_count": 333,
   "id": "95b86e58",
   "metadata": {},
   "outputs": [
    {
     "name": "stdout",
     "output_type": "stream",
     "text": [
      "\n",
      "Final J(θ) (test error) for Closed-form method is: \n",
      "\n",
      "0.17653574740460434\n"
     ]
    }
   ],
   "source": [
    "print(f'\\nFinal J(\\u03B8) (test error) for Closed-form method is: \\n\\n{J1_closed_form[-1]}')"
   ]
  },
  {
   "cell_type": "markdown",
   "id": "520fe822",
   "metadata": {},
   "source": [
    "- - $\\text{3. Implement batch gradient descent and stochastic gradient descent to solve this\n",
    "problem. Report the train and test error in each case.}$"
   ]
  },
  {
   "cell_type": "code",
   "execution_count": 158,
   "id": "6691767d",
   "metadata": {},
   "outputs": [],
   "source": [
    "def SGD2(x: np.ndarray, y: np.ndarray, iteration: int=1500, learning_rate: float=0.01) -> (np.ndarray, float):\n",
    "    m, n = x.shape\n",
    "    theta_init = np.zeros(shape=(n, 1))\n",
    "    theta = theta_init\n",
    "    for it in range (iteration):\n",
    "        d_theta = np.zeros(shape=(n, 1))\n",
    "        for i in range(m):\n",
    "            for j in range(n):\n",
    "                d_theta[j][0] = (x[i] @ theta - y[i]) * x[i][j]\n",
    "            d_theta /= m\n",
    "            theta_new = theta - (learning_rate*d_theta)\n",
    "            theta = theta_new\n",
    "            \n",
    "    J_theta = (1/(2*m)) * ((x @ theta - y).T @ (x @ theta - y))\n",
    "    return (theta, J_theta)"
   ]
  },
  {
   "cell_type": "code",
   "execution_count": 160,
   "id": "31bfc3a2",
   "metadata": {},
   "outputs": [],
   "source": [
    "X_test = X_test_new_sett_ndarray\n",
    "y_test = y_test_new_sett_ndarray\n",
    "m_test = X_test.shape[0]\n",
    "J_test2 = []\n",
    "for i in range(1, 101):\n",
    "\n",
    "    X_train = X_train_new_sett_ndarray[: 10*i]\n",
    "    y_train = y_train_new_sett_ndarray[: 10*i]\n",
    "    w_trained, _ = SGD2(X_train, y_train)\n",
    "    J = np.linalg.norm((X_test @ w_trained - y_test))**2\n",
    "    J_test2.append(J)\n",
    "        \n",
    "\n",
    "J_test2_ndarray = np.array(J_test2)"
   ]
  },
  {
   "cell_type": "code",
   "execution_count": 161,
   "id": "517df2a5",
   "metadata": {},
   "outputs": [
    {
     "data": {
      "image/png": "[encoded data removed]",
      "text/plain": [
       "<Figure size 640x480 with 1 Axes>"
      ]
     },
     "metadata": {},
     "output_type": "display_data"
    }
   ],
   "source": [
    "J2 = J_test2_ndarray/(2*m_test)\n",
    "\n",
    "levels = range(len(J2))\n",
    "plt.plot(levels, J2, c='blue'), plt.title('SGD', fontsize=11)\n",
    "plt.xlabel('No. Training Samples', fontsize=9), plt.ylabel('J(\\u03B8)')\n",
    "plt.show()"
   ]
  },
  {
   "cell_type": "code",
   "execution_count": 162,
   "id": "b7918ad6",
   "metadata": {},
   "outputs": [],
   "source": [
    "def BGD2(x: np.ndarray, y: np.ndarray, iteration: int=1500, learning_rate: float=0.01) -> (np.ndarray, float):\n",
    "    \n",
    "    m, n = x.shape\n",
    "    theta_init = np.zeros(shape=(n, 1))\n",
    "    theta = theta_init\n",
    "    for it in range(iteration):\n",
    "        \n",
    "        \n",
    "        d_theta = np.zeros(shape=(n, 1))\n",
    "        for j in range(n):\n",
    "            \n",
    "            for i in range(m):\n",
    "                d_theta[j][0] += (x[i] @ theta - y[i]) * x[i][j]\n",
    "            d_theta[j][0] /= m\n",
    "            \n",
    "        theta_new = theta - (learning_rate*d_theta)\n",
    "        theta = theta_new\n",
    "    \n",
    "    J_theta = (1/(2*m)) * ((x @ theta - y).T @ (x @ theta - y))        \n",
    "    return (theta, J_theta)"
   ]
  },
  {
   "cell_type": "code",
   "execution_count": 163,
   "id": "cf55c15e",
   "metadata": {},
   "outputs": [],
   "source": [
    "X_test = X_test_new_sett_ndarray\n",
    "y_test = y_test_new_sett_ndarray\n",
    "m_test = X_test.shape[0]\n",
    "J_test3 = []\n",
    "for i in range(1, 101):\n",
    "\n",
    "    X_train = X_train_new_sett_ndarray[: 10*i]\n",
    "    y_train = y_train_new_sett_ndarray[: 10*i]\n",
    "    w_trained, _ = BGD2(X_train, y_train)\n",
    "    J = np.linalg.norm((X_test @ w_trained - y_test))**2\n",
    "    J_test3.append(J)\n",
    "        \n",
    "\n",
    "J_test3_ndarray = np.array(J_test3)"
   ]
  },
  {
   "cell_type": "code",
   "execution_count": 164,
   "id": "e46ce5b4",
   "metadata": {},
   "outputs": [
    {
     "data": {
      "image/png": "[encoded data removed]",
      "text/plain": [
       "<Figure size 640x480 with 1 Axes>"
      ]
     },
     "metadata": {},
     "output_type": "display_data"
    }
   ],
   "source": [
    "J3 = J_test3_ndarray/(2*m_test)\n",
    "\n",
    "levels = range(len(J3))\n",
    "plt.plot(levels, J3, c='blue'), plt.title('BGD', fontsize=11)\n",
    "plt.xlabel('No. Training Samples', fontsize=9), plt.ylabel('J(\\u03B8)')\n",
    "plt.show()"
   ]
  },
  {
   "cell_type": "markdown",
   "id": "ae13df4e",
   "metadata": {},
   "source": [
    "- - $\\text{4. Now, add a L2 regulator to the cost function and solve the problem using closed-form.\n",
    "Specify the best value for regularizer}$\n",
    "$\\newline$\n",
    "$\\text{parameter } (\\lambda) \\text{ between } 10^{-4} , 10^{-3} , ..., 1, ..., 10^{3}, 10^{4}.\n",
    "\\text{ Plot both train and test errors concerning the logarithmic amount of} \\lambda.$"
   ]
  },
  {
   "cell_type": "markdown",
   "id": "09008638",
   "metadata": {},
   "source": [
    "- - - $\\text{Answer:}$\n",
    "$\\newline$\n",
    "$\\newline$\n",
    "$\\text{For }{\\bf{MSE}} \\text{ aproach we have:}$\n",
    "$\\newline$\n",
    "$\\newline$\n",
    "$$J_{level}({\\bf{w}}) = \\frac{1}{2m_{level}} \\; \\{ \\; \\lVert {\\bf{X}}_{level} {\\bf{w}} - \n",
    "{\\bf{y}}_{level} \\rVert_{2}^{2} + \\lambda \\lVert {\\bf{w}} \\rVert_{2}^{2} \\; \\} \\; \\; \\; \\; \\; \\; \\; \\text{that} \\; \\; \\; \\; \\; \\; \\; level = \\begin{cases} \\text{train} \\\\ \\text{test}\\end{cases}$$\n",
    "$\\newline$\n",
    "$\\newline$\n",
    "$$ \\Longrightarrow \\; \\; \\; \\; \\; \\; \\; \\; \\; \\underbrace{ \\; \\; {\\bf{w^{*}}} = (\\; {\\bf{X}}^{T}{\\bf{X}} + \\lambda {\\bf{I_{n}}}\\;)^{-1} \\; {\\bf{X}}^{T}{\\bf{y}}\\; \\; }_{\\; \\; \\; \\bf{\\text{Redge Regression}}}$$\n",
    "$\\newline$\n",
    "$\\newline$"
   ]
  },
  {
   "cell_type": "code",
   "execution_count": 41,
   "id": "3c926c9d",
   "metadata": {},
   "outputs": [
    {
     "name": "stdout",
     "output_type": "stream",
     "text": [
      "λ values: [1.e-04 1.e-03 1.e-02 1.e-01 1.e+00 1.e+01 1.e+02 1.e+03 1.e+04]\n",
      "\n",
      "\n",
      "\n",
      " J(θ) values for train: \n",
      "\n",
      "[0.0045274  0.00452749 0.00452847 0.00453825 0.00463485 0.00550644\n",
      " 0.01049786 0.02169809 0.03305775]\n",
      "\n",
      "\n",
      "\n",
      "J(θ) values for test: \n",
      "\n",
      "[0.01151603 0.01151672 0.01152354 0.01159162 0.01225848 0.01787743\n",
      " 0.04131668 0.07203825 0.0749632 ]\n"
     ]
    }
   ],
   "source": [
    "lambda_ndarray = np.logspace(start=-4, stop=4, num=9)\n",
    "# lambda_ndarray = [0]\n",
    "print(f'\\u03BB values: {lambda_ndarray}')\n",
    "\n",
    "X_train = X_train_new_sett_ndarray.copy()\n",
    "y_train = y_train_new_sett_ndarray.copy()\n",
    "X_test = X_test_new_sett_ndarray.copy()\n",
    "y_test = y_test_new_sett_ndarray.copy()\n",
    "m_train, n = X_train.shape\n",
    "m_test = X_test.shape[0]\n",
    "I_n = np.identity(n)\n",
    "\n",
    "J_test_list = []\n",
    "J_train_list = []\n",
    "for lambda_value in lambda_ndarray:\n",
    "    w_star = np.linalg.inv(X_train.T @ X_train + (lambda_value * I_n)) @ X_train.T @ y_train\n",
    "    J_train_float = (np.linalg.norm(X_train @ w_star - y_train)**2) + (lambda_value*(np.linalg.norm(w_star)**2))\n",
    "    J_test_float = (np.linalg.norm(X_test @ w_star - y_test)**2) + (lambda_value*(np.linalg.norm(w_star)**2))\n",
    "    J_train_list.append(J_train_float)\n",
    "    J_test_list.append(J_test_float)\n",
    "    \n",
    "    \n",
    "J_train_ndarray = np.array(J_train_list)\n",
    "J_train_ndarray /= (2*m_train)\n",
    "\n",
    "J_test_ndarray = np.array(J_test_list)\n",
    "J_test_ndarray /= (2*m_test)\n",
    "\n",
    "print(f'\\n\\n\\n J(\\u03B8) values for train: \\n\\n{J_train_ndarray}')\n",
    "print(f'\\n\\n\\nJ(\\u03B8) values for test: \\n\\n{J_test_ndarray}')"
   ]
  },
  {
   "cell_type": "code",
   "execution_count": 42,
   "id": "d5aaae9c",
   "metadata": {},
   "outputs": [
    {
     "data": {
      "image/png": "[encoded data removed]",
      "text/plain": [
       "<Figure size 640x480 with 1 Axes>"
      ]
     },
     "metadata": {},
     "output_type": "display_data"
    }
   ],
   "source": [
    "plt.figure()\n",
    "plt.plot(J_train_ndarray, marker='o', label='$J_{train}$')\n",
    "plt.plot(J_test_ndarray, marker='o', label='$J_{test}$')\n",
    "plt.xlabel('\\u03BB'), plt.ylabel('J(\\u03B8)'), plt.axis([-1, 20, 0, 0.1])\n",
    "plt.legend()\n",
    "plt.show()"
   ]
  },
  {
   "cell_type": "markdown",
   "id": "f6fa3443",
   "metadata": {},
   "source": [
    "- - - $\\text{Answer:}$\n",
    "$\\newline$\n",
    "$\\newline$\n",
    "$\\lambda^{*} = 10^{-4}$\n",
    "$\\newline$"
   ]
  },
  {
   "cell_type": "markdown",
   "id": "cbb13ce9",
   "metadata": {},
   "source": [
    "- - $\\text{5. Compare the results with and without regularization.}$"
   ]
  },
  {
   "cell_type": "code",
   "execution_count": 54,
   "id": "e1437399",
   "metadata": {},
   "outputs": [
    {
     "data": {
      "text/html": [
       "<div>\n",
       "<style scoped>\n",
       "    .dataframe tbody tr th:only-of-type {\n",
       "        vertical-align: middle;\n",
       "    }\n",
       "\n",
       "    .dataframe tbody tr th {\n",
       "        vertical-align: top;\n",
       "    }\n",
       "\n",
       "    .dataframe thead th {\n",
       "        text-align: right;\n",
       "    }\n",
       "</style>\n",
       "<table border=\"1\" class=\"dataframe\">\n",
       "  <thead>\n",
       "    <tr style=\"text-align: right;\">\n",
       "      <th></th>\n",
       "      <th>λ</th>\n",
       "      <th>Train Error</th>\n",
       "      <th>Test Error</th>\n",
       "    </tr>\n",
       "  </thead>\n",
       "  <tbody>\n",
       "    <tr>\n",
       "      <th>0</th>\n",
       "      <td>0.0000</td>\n",
       "      <td>0.2150</td>\n",
       "      <td>0.176</td>\n",
       "    </tr>\n",
       "    <tr>\n",
       "      <th>1</th>\n",
       "      <td>0.0001</td>\n",
       "      <td>0.0045</td>\n",
       "      <td>0.012</td>\n",
       "    </tr>\n",
       "  </tbody>\n",
       "</table>\n",
       "</div>"
      ],
      "text/plain": [
       "        λ  Train Error  Test Error\n",
       "0  0.0000       0.2150       0.176\n",
       "1  0.0001       0.0045       0.012"
      ]
     },
     "execution_count": 54,
     "metadata": {},
     "output_type": "execute_result"
    }
   ],
   "source": [
    "results_dict = {'\\u03BB': [0, 1e-4], 'Train Error': [0.215, 0.0045], 'Test Error': [0.176, 0.012]}\n",
    "results_df = pd.DataFrame(results_dict, )\n",
    "results_df"
   ]
  },
  {
   "cell_type": "code",
   "execution_count": 52,
   "id": "b7ba2a8b",
   "metadata": {},
   "outputs": [
    {
     "data": {
      "image/png": "[encoded data removed]",
      "text/plain": [
       "<Figure size 640x480 with 1 Axes>"
      ]
     },
     "metadata": {},
     "output_type": "display_data"
    }
   ],
   "source": [
    "J_train_without_reg = [0.21493123965683714]\n",
    "J_test_without_reg = [0.17653574740460437]\n",
    "J_train_with_reg = [0.0045274]\n",
    "J_test_with_reg = [0.011510603]\n",
    "\n",
    "plt.figure()\n",
    "plt.plot(J_train_without_reg, label='$J_{train\\;\\;without\\;\\;regularization}$', marker='*', c='blue')\n",
    "plt.plot(J_test_without_reg, label='$J_{test\\;\\;without\\;\\;regularization}$', marker='*', c='red')\n",
    "plt.plot(J_train_with_reg, label='$J_{train\\;\\;with\\;\\;regularization}$', marker='o')\n",
    "plt.plot(J_test_with_reg, label='$J_{test\\;\\;with\\;\\;regularization}$', marker='o')\n",
    "plt.xlim([-0.05, 0.05]), plt.ylim([-0.1, 0.3]), plt.title(\"Comparison between J(\\u03B8) \\\n",
    "Values when Using and not using the Regularization\", fontsize=8)\n",
    "plt.legend()\n",
    "plt.show()"
   ]
  },
  {
   "cell_type": "markdown",
   "id": "14e28087",
   "metadata": {},
   "source": [
    "- - - $\\text{Answer:}$\n",
    "$\\newline$\n",
    "$\\newline$\n",
    "$\\text{By using the best value for the Regularization parameter} {\\;(\\lambda^{*})} \\text{, both the testing and training errors are reduced, moreover, } \n",
    "\\newline\\text{they are closer to each other, which shows the ability to further generalize the model.}$"
   ]
  },
  {
   "cell_type": "markdown",
   "id": "c2afb669",
   "metadata": {},
   "source": [
    "- [x] $\\bf{\\text{B}}$"
   ]
  }
 ],
 "metadata": {
  "kernelspec": {
   "display_name": "Python 3 (ipykernel)",
   "language": "python",
   "name": "python3"
  },
  "language_info": {
   "codemirror_mode": {
    "name": "ipython",
    "version": 3
   },
   "file_extension": ".py",
   "mimetype": "text/x-python",
   "name": "python",
   "nbconvert_exporter": "python",
   "pygments_lexer": "ipython3",
   "version": "3.10.8"
  }
 },
 "nbformat": 4,
 "nbformat_minor": 5
}
